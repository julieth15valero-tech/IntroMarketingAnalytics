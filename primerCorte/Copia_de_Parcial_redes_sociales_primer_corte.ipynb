{
  "cells": [
    {
      "cell_type": "markdown",
      "metadata": {
        "id": "XK8g2iilhia2"
      },
      "source": [
        "# 📊 Parcial – Análisis de Redes Sociales (Primer Corte)\n",
        "\n",
        "## 🎯 Objetivo\n",
        "Evaluar tu dominio de **filtros** y **agrupaciones** en Python (sin pivots ni gráficos) y tu capacidad de **análisis de negocio** en métricas de marketing: **CAC, LTV, churn rate, funnel, unit economics (LTV/CAC)**.\n",
        "\n",
        "---\n",
        "## 🧩 Contexto de Negocio (Caso Real)\n",
        "**StartUp SaaS en crecimiento.** Vende planes **Basic, Pro, Enterprise** en **LatAm, North America, Europe, APAC**. Los canales de adquisición son: **meta_ads, google_ads, organic_search, outbound_sales**. Los usuarios se registran por **web** o **mobile_app**.\n",
        "\n",
        "La dirección quiere decidir **dónde invertir el presupuesto del próximo trimestre**. Te piden:\n",
        "\n",
        "1) Identificar **canales más rentables** (relación **LTV/CAC** y churn).  \n",
        "2) Detectar **regiones** con mayor **potencial de crecimiento** y/o **riesgo**.  \n",
        "3) Evaluar el desempeño por **tier** (Basic, Pro, Enterprise).  \n",
        "4) Recomendar **asignación de presupuesto** por **canal + tier**.\n",
        "\n",
        "---\n",
        "## 📂 Instrucciones\n",
        "- Trabaja únicamente con **filtros** y **agrupaciones**. **No uses** tablas dinámicas (pivot), merges ni gráficos.\n",
        "- Archivo a usar: `clientes_marketing.csv`.\n",
        "- Escribe **código + interpretación breve** para cada inciso.\n",
        "- Si el enunciado dice **“Agrupa”**, usa `groupby`. Si dice **“Filtra”**, usa filtrado con máscaras booleanas. Si dice **“Ambas”**, realiza primero el **filtro** y luego la **agrupación**.\n",
        "\n",
        "---\n"
      ],
      "id": "XK8g2iilhia2"
    },
    {
      "cell_type": "markdown",
      "source": [
        "## Descargar Tabla (Correr una vez)"
      ],
      "metadata": {
        "id": "RUVAoxsVoYyx"
      },
      "id": "RUVAoxsVoYyx"
    },
    {
      "cell_type": "code",
      "source": [
        "!wget https://github.com/javierherrera1996/IntroMarketingAnalytics/raw/refs/heads/main/PrimerCorte/cac_ltv_model.csv"
      ],
      "metadata": {
        "colab": {
          "base_uri": "https://localhost:8080/"
        },
        "id": "ddFB7iT9obhw",
        "outputId": "413e3468-e5f8-42aa-b6b3-27369eb45af7"
      },
      "id": "ddFB7iT9obhw",
      "execution_count": 1,
      "outputs": [
        {
          "output_type": "stream",
          "name": "stdout",
          "text": [
            "--2025-09-17 23:40:40--  https://github.com/javierherrera1996/IntroMarketingAnalytics/raw/refs/heads/main/PrimerCorte/cac_ltv_model.csv\n",
            "Resolving github.com (github.com)... 20.27.177.113\n",
            "Connecting to github.com (github.com)|20.27.177.113|:443... connected.\n",
            "HTTP request sent, awaiting response... 302 Found\n",
            "Location: https://raw.githubusercontent.com/javierherrera1996/IntroMarketingAnalytics/refs/heads/main/PrimerCorte/cac_ltv_model.csv [following]\n",
            "--2025-09-17 23:40:41--  https://raw.githubusercontent.com/javierherrera1996/IntroMarketingAnalytics/refs/heads/main/PrimerCorte/cac_ltv_model.csv\n",
            "Resolving raw.githubusercontent.com (raw.githubusercontent.com)... 185.199.109.133, 185.199.110.133, 185.199.111.133, ...\n",
            "Connecting to raw.githubusercontent.com (raw.githubusercontent.com)|185.199.109.133|:443... connected.\n",
            "HTTP request sent, awaiting response... 200 OK\n",
            "Length: 661398 (646K) [text/plain]\n",
            "Saving to: ‘cac_ltv_model.csv’\n",
            "\n",
            "cac_ltv_model.csv   100%[===================>] 645.90K  2.66MB/s    in 0.2s    \n",
            "\n",
            "2025-09-17 23:40:42 (2.66 MB/s) - ‘cac_ltv_model.csv’ saved [661398/661398]\n",
            "\n"
          ]
        }
      ]
    },
    {
      "cell_type": "markdown",
      "source": [
        "## Importar Datos"
      ],
      "metadata": {
        "id": "nfDk-HYXoVuq"
      },
      "id": "nfDk-HYXoVuq"
    },
    {
      "cell_type": "code",
      "metadata": {
        "id": "QJpV_gqfhia4"
      },
      "execution_count": 2,
      "outputs": [],
      "source": [
        "import pandas as pd\n",
        "pd.set_option('display.float_format', lambda x: f'{x:,.2f}')\n",
        "\n",
        "# 1) Cargar dataset\n",
        "data = pd.read_csv('cac_ltv_model.csv')\n"
      ],
      "id": "QJpV_gqfhia4"
    },
    {
      "cell_type": "markdown",
      "metadata": {
        "id": "dgC-Da02hia5"
      },
      "source": [
        "### ✅ Variables relevantes (recordatorio)\n",
        "- `acquisition_channel`, `signup_source`, `region`, `customer_tier`\n",
        "- `plan_price`, `discount_rate`, `arpu`, `gross_margin`, `churn_rate`\n",
        "- `contract_length_months`, `marketing_spend`\n",
        "\n",
        "### 🧮 Fórmulas de negocio (a usar en el examen)\n",
        "- **CAC por canal**:  \n",
        "    $$ CAC = \\frac{\\text{Total Marketing Spend}}{\\text{Clientes adquiridos}} $$\n",
        "  \n",
        "- **LTV por observación** (aprox.):  \n",
        "   $$ LTV = ARPU \\times contract\\_length\\_months \\times gross\\_margin \\times (1 - churn\\_rate) $$\n",
        "\n",
        "- **Unit economics**:  \n",
        "  $$ LTV/CAC   $$(ideal \\> 3 como regla general de SaaS)\n",
        "\n",
        "---\n",
        "\n"
      ],
      "id": "dgC-Da02hia5"
    },
    {
      "cell_type": "markdown",
      "source": [
        "### Parte Exploratoria: Cree una muestra de los primeros 5 elementos de esta tabla. ¿Cuantas observaciones tienes?"
      ],
      "metadata": {
        "id": "Z8Qtf0brksp4"
      },
      "id": "Z8Qtf0brksp4"
    },
    {
      "cell_type": "code",
      "source": [
        "data.head(5)"
      ],
      "metadata": {
        "id": "QtoVUwx0k01D",
        "colab": {
          "base_uri": "https://localhost:8080/",
          "height": 206
        },
        "outputId": "74864897-319a-45bf-c322-22a050919145"
      },
      "id": "QtoVUwx0k01D",
      "execution_count": 3,
      "outputs": [
        {
          "output_type": "execute_result",
          "data": {
            "text/plain": [
              "   year  month    date  customer_id acquisition_channel signup_source  \\\n",
              "0  2023      1  Jan-23         1001      outbound_sales           web   \n",
              "1  2023      1  Jan-23         1002            meta_ads           web   \n",
              "2  2023      1  Jan-23         1003      organic_search    mobile_app   \n",
              "3  2023      1  Jan-23         1004      organic_search           web   \n",
              "4  2023      1  Jan-23         1005      organic_search           web   \n",
              "\n",
              "          region customer_tier  plan_price  discount_rate   arpu  \\\n",
              "0  North America         Basic       78.84           0.10  63.63   \n",
              "1          LatAm           Pro      120.23           0.00 124.47   \n",
              "2  North America    Enterprise      335.82           0.20 278.20   \n",
              "3         Europe           Pro      193.89           0.10 190.65   \n",
              "4           APAC    Enterprise      471.80           0.10 445.32   \n",
              "\n",
              "   gross_margin  churn_rate  contract_length_months  marketing_spend  \n",
              "0          0.76        0.02                      12           212.48  \n",
              "1          0.84        0.05                       1           352.60  \n",
              "2          0.81        0.02                      12            55.40  \n",
              "3          0.80        0.08                       1            49.10  \n",
              "4          0.80        0.08                       1            45.27  "
            ],
            "text/html": [
              "\n",
              "  <div id=\"df-aeb9ea7f-1f42-480c-a580-48351cf7ea0a\" class=\"colab-df-container\">\n",
              "    <div>\n",
              "<style scoped>\n",
              "    .dataframe tbody tr th:only-of-type {\n",
              "        vertical-align: middle;\n",
              "    }\n",
              "\n",
              "    .dataframe tbody tr th {\n",
              "        vertical-align: top;\n",
              "    }\n",
              "\n",
              "    .dataframe thead th {\n",
              "        text-align: right;\n",
              "    }\n",
              "</style>\n",
              "<table border=\"1\" class=\"dataframe\">\n",
              "  <thead>\n",
              "    <tr style=\"text-align: right;\">\n",
              "      <th></th>\n",
              "      <th>year</th>\n",
              "      <th>month</th>\n",
              "      <th>date</th>\n",
              "      <th>customer_id</th>\n",
              "      <th>acquisition_channel</th>\n",
              "      <th>signup_source</th>\n",
              "      <th>region</th>\n",
              "      <th>customer_tier</th>\n",
              "      <th>plan_price</th>\n",
              "      <th>discount_rate</th>\n",
              "      <th>arpu</th>\n",
              "      <th>gross_margin</th>\n",
              "      <th>churn_rate</th>\n",
              "      <th>contract_length_months</th>\n",
              "      <th>marketing_spend</th>\n",
              "    </tr>\n",
              "  </thead>\n",
              "  <tbody>\n",
              "    <tr>\n",
              "      <th>0</th>\n",
              "      <td>2023</td>\n",
              "      <td>1</td>\n",
              "      <td>Jan-23</td>\n",
              "      <td>1001</td>\n",
              "      <td>outbound_sales</td>\n",
              "      <td>web</td>\n",
              "      <td>North America</td>\n",
              "      <td>Basic</td>\n",
              "      <td>78.84</td>\n",
              "      <td>0.10</td>\n",
              "      <td>63.63</td>\n",
              "      <td>0.76</td>\n",
              "      <td>0.02</td>\n",
              "      <td>12</td>\n",
              "      <td>212.48</td>\n",
              "    </tr>\n",
              "    <tr>\n",
              "      <th>1</th>\n",
              "      <td>2023</td>\n",
              "      <td>1</td>\n",
              "      <td>Jan-23</td>\n",
              "      <td>1002</td>\n",
              "      <td>meta_ads</td>\n",
              "      <td>web</td>\n",
              "      <td>LatAm</td>\n",
              "      <td>Pro</td>\n",
              "      <td>120.23</td>\n",
              "      <td>0.00</td>\n",
              "      <td>124.47</td>\n",
              "      <td>0.84</td>\n",
              "      <td>0.05</td>\n",
              "      <td>1</td>\n",
              "      <td>352.60</td>\n",
              "    </tr>\n",
              "    <tr>\n",
              "      <th>2</th>\n",
              "      <td>2023</td>\n",
              "      <td>1</td>\n",
              "      <td>Jan-23</td>\n",
              "      <td>1003</td>\n",
              "      <td>organic_search</td>\n",
              "      <td>mobile_app</td>\n",
              "      <td>North America</td>\n",
              "      <td>Enterprise</td>\n",
              "      <td>335.82</td>\n",
              "      <td>0.20</td>\n",
              "      <td>278.20</td>\n",
              "      <td>0.81</td>\n",
              "      <td>0.02</td>\n",
              "      <td>12</td>\n",
              "      <td>55.40</td>\n",
              "    </tr>\n",
              "    <tr>\n",
              "      <th>3</th>\n",
              "      <td>2023</td>\n",
              "      <td>1</td>\n",
              "      <td>Jan-23</td>\n",
              "      <td>1004</td>\n",
              "      <td>organic_search</td>\n",
              "      <td>web</td>\n",
              "      <td>Europe</td>\n",
              "      <td>Pro</td>\n",
              "      <td>193.89</td>\n",
              "      <td>0.10</td>\n",
              "      <td>190.65</td>\n",
              "      <td>0.80</td>\n",
              "      <td>0.08</td>\n",
              "      <td>1</td>\n",
              "      <td>49.10</td>\n",
              "    </tr>\n",
              "    <tr>\n",
              "      <th>4</th>\n",
              "      <td>2023</td>\n",
              "      <td>1</td>\n",
              "      <td>Jan-23</td>\n",
              "      <td>1005</td>\n",
              "      <td>organic_search</td>\n",
              "      <td>web</td>\n",
              "      <td>APAC</td>\n",
              "      <td>Enterprise</td>\n",
              "      <td>471.80</td>\n",
              "      <td>0.10</td>\n",
              "      <td>445.32</td>\n",
              "      <td>0.80</td>\n",
              "      <td>0.08</td>\n",
              "      <td>1</td>\n",
              "      <td>45.27</td>\n",
              "    </tr>\n",
              "  </tbody>\n",
              "</table>\n",
              "</div>\n",
              "    <div class=\"colab-df-buttons\">\n",
              "\n",
              "  <div class=\"colab-df-container\">\n",
              "    <button class=\"colab-df-convert\" onclick=\"convertToInteractive('df-aeb9ea7f-1f42-480c-a580-48351cf7ea0a')\"\n",
              "            title=\"Convert this dataframe to an interactive table.\"\n",
              "            style=\"display:none;\">\n",
              "\n",
              "  <svg xmlns=\"http://www.w3.org/2000/svg\" height=\"24px\" viewBox=\"0 -960 960 960\">\n",
              "    <path d=\"M120-120v-720h720v720H120Zm60-500h600v-160H180v160Zm220 220h160v-160H400v160Zm0 220h160v-160H400v160ZM180-400h160v-160H180v160Zm440 0h160v-160H620v160ZM180-180h160v-160H180v160Zm440 0h160v-160H620v160Z\"/>\n",
              "  </svg>\n",
              "    </button>\n",
              "\n",
              "  <style>\n",
              "    .colab-df-container {\n",
              "      display:flex;\n",
              "      gap: 12px;\n",
              "    }\n",
              "\n",
              "    .colab-df-convert {\n",
              "      background-color: #E8F0FE;\n",
              "      border: none;\n",
              "      border-radius: 50%;\n",
              "      cursor: pointer;\n",
              "      display: none;\n",
              "      fill: #1967D2;\n",
              "      height: 32px;\n",
              "      padding: 0 0 0 0;\n",
              "      width: 32px;\n",
              "    }\n",
              "\n",
              "    .colab-df-convert:hover {\n",
              "      background-color: #E2EBFA;\n",
              "      box-shadow: 0px 1px 2px rgba(60, 64, 67, 0.3), 0px 1px 3px 1px rgba(60, 64, 67, 0.15);\n",
              "      fill: #174EA6;\n",
              "    }\n",
              "\n",
              "    .colab-df-buttons div {\n",
              "      margin-bottom: 4px;\n",
              "    }\n",
              "\n",
              "    [theme=dark] .colab-df-convert {\n",
              "      background-color: #3B4455;\n",
              "      fill: #D2E3FC;\n",
              "    }\n",
              "\n",
              "    [theme=dark] .colab-df-convert:hover {\n",
              "      background-color: #434B5C;\n",
              "      box-shadow: 0px 1px 3px 1px rgba(0, 0, 0, 0.15);\n",
              "      filter: drop-shadow(0px 1px 2px rgba(0, 0, 0, 0.3));\n",
              "      fill: #FFFFFF;\n",
              "    }\n",
              "  </style>\n",
              "\n",
              "    <script>\n",
              "      const buttonEl =\n",
              "        document.querySelector('#df-aeb9ea7f-1f42-480c-a580-48351cf7ea0a button.colab-df-convert');\n",
              "      buttonEl.style.display =\n",
              "        google.colab.kernel.accessAllowed ? 'block' : 'none';\n",
              "\n",
              "      async function convertToInteractive(key) {\n",
              "        const element = document.querySelector('#df-aeb9ea7f-1f42-480c-a580-48351cf7ea0a');\n",
              "        const dataTable =\n",
              "          await google.colab.kernel.invokeFunction('convertToInteractive',\n",
              "                                                    [key], {});\n",
              "        if (!dataTable) return;\n",
              "\n",
              "        const docLinkHtml = 'Like what you see? Visit the ' +\n",
              "          '<a target=\"_blank\" href=https://colab.research.google.com/notebooks/data_table.ipynb>data table notebook</a>'\n",
              "          + ' to learn more about interactive tables.';\n",
              "        element.innerHTML = '';\n",
              "        dataTable['output_type'] = 'display_data';\n",
              "        await google.colab.output.renderOutput(dataTable, element);\n",
              "        const docLink = document.createElement('div');\n",
              "        docLink.innerHTML = docLinkHtml;\n",
              "        element.appendChild(docLink);\n",
              "      }\n",
              "    </script>\n",
              "  </div>\n",
              "\n",
              "\n",
              "    <div id=\"df-c89f7908-25f2-45b7-a432-3025855a52bc\">\n",
              "      <button class=\"colab-df-quickchart\" onclick=\"quickchart('df-c89f7908-25f2-45b7-a432-3025855a52bc')\"\n",
              "                title=\"Suggest charts\"\n",
              "                style=\"display:none;\">\n",
              "\n",
              "<svg xmlns=\"http://www.w3.org/2000/svg\" height=\"24px\"viewBox=\"0 0 24 24\"\n",
              "     width=\"24px\">\n",
              "    <g>\n",
              "        <path d=\"M19 3H5c-1.1 0-2 .9-2 2v14c0 1.1.9 2 2 2h14c1.1 0 2-.9 2-2V5c0-1.1-.9-2-2-2zM9 17H7v-7h2v7zm4 0h-2V7h2v10zm4 0h-2v-4h2v4z\"/>\n",
              "    </g>\n",
              "</svg>\n",
              "      </button>\n",
              "\n",
              "<style>\n",
              "  .colab-df-quickchart {\n",
              "      --bg-color: #E8F0FE;\n",
              "      --fill-color: #1967D2;\n",
              "      --hover-bg-color: #E2EBFA;\n",
              "      --hover-fill-color: #174EA6;\n",
              "      --disabled-fill-color: #AAA;\n",
              "      --disabled-bg-color: #DDD;\n",
              "  }\n",
              "\n",
              "  [theme=dark] .colab-df-quickchart {\n",
              "      --bg-color: #3B4455;\n",
              "      --fill-color: #D2E3FC;\n",
              "      --hover-bg-color: #434B5C;\n",
              "      --hover-fill-color: #FFFFFF;\n",
              "      --disabled-bg-color: #3B4455;\n",
              "      --disabled-fill-color: #666;\n",
              "  }\n",
              "\n",
              "  .colab-df-quickchart {\n",
              "    background-color: var(--bg-color);\n",
              "    border: none;\n",
              "    border-radius: 50%;\n",
              "    cursor: pointer;\n",
              "    display: none;\n",
              "    fill: var(--fill-color);\n",
              "    height: 32px;\n",
              "    padding: 0;\n",
              "    width: 32px;\n",
              "  }\n",
              "\n",
              "  .colab-df-quickchart:hover {\n",
              "    background-color: var(--hover-bg-color);\n",
              "    box-shadow: 0 1px 2px rgba(60, 64, 67, 0.3), 0 1px 3px 1px rgba(60, 64, 67, 0.15);\n",
              "    fill: var(--button-hover-fill-color);\n",
              "  }\n",
              "\n",
              "  .colab-df-quickchart-complete:disabled,\n",
              "  .colab-df-quickchart-complete:disabled:hover {\n",
              "    background-color: var(--disabled-bg-color);\n",
              "    fill: var(--disabled-fill-color);\n",
              "    box-shadow: none;\n",
              "  }\n",
              "\n",
              "  .colab-df-spinner {\n",
              "    border: 2px solid var(--fill-color);\n",
              "    border-color: transparent;\n",
              "    border-bottom-color: var(--fill-color);\n",
              "    animation:\n",
              "      spin 1s steps(1) infinite;\n",
              "  }\n",
              "\n",
              "  @keyframes spin {\n",
              "    0% {\n",
              "      border-color: transparent;\n",
              "      border-bottom-color: var(--fill-color);\n",
              "      border-left-color: var(--fill-color);\n",
              "    }\n",
              "    20% {\n",
              "      border-color: transparent;\n",
              "      border-left-color: var(--fill-color);\n",
              "      border-top-color: var(--fill-color);\n",
              "    }\n",
              "    30% {\n",
              "      border-color: transparent;\n",
              "      border-left-color: var(--fill-color);\n",
              "      border-top-color: var(--fill-color);\n",
              "      border-right-color: var(--fill-color);\n",
              "    }\n",
              "    40% {\n",
              "      border-color: transparent;\n",
              "      border-right-color: var(--fill-color);\n",
              "      border-top-color: var(--fill-color);\n",
              "    }\n",
              "    60% {\n",
              "      border-color: transparent;\n",
              "      border-right-color: var(--fill-color);\n",
              "    }\n",
              "    80% {\n",
              "      border-color: transparent;\n",
              "      border-right-color: var(--fill-color);\n",
              "      border-bottom-color: var(--fill-color);\n",
              "    }\n",
              "    90% {\n",
              "      border-color: transparent;\n",
              "      border-bottom-color: var(--fill-color);\n",
              "    }\n",
              "  }\n",
              "</style>\n",
              "\n",
              "      <script>\n",
              "        async function quickchart(key) {\n",
              "          const quickchartButtonEl =\n",
              "            document.querySelector('#' + key + ' button');\n",
              "          quickchartButtonEl.disabled = true;  // To prevent multiple clicks.\n",
              "          quickchartButtonEl.classList.add('colab-df-spinner');\n",
              "          try {\n",
              "            const charts = await google.colab.kernel.invokeFunction(\n",
              "                'suggestCharts', [key], {});\n",
              "          } catch (error) {\n",
              "            console.error('Error during call to suggestCharts:', error);\n",
              "          }\n",
              "          quickchartButtonEl.classList.remove('colab-df-spinner');\n",
              "          quickchartButtonEl.classList.add('colab-df-quickchart-complete');\n",
              "        }\n",
              "        (() => {\n",
              "          let quickchartButtonEl =\n",
              "            document.querySelector('#df-c89f7908-25f2-45b7-a432-3025855a52bc button');\n",
              "          quickchartButtonEl.style.display =\n",
              "            google.colab.kernel.accessAllowed ? 'block' : 'none';\n",
              "        })();\n",
              "      </script>\n",
              "    </div>\n",
              "\n",
              "    </div>\n",
              "  </div>\n"
            ],
            "application/vnd.google.colaboratory.intrinsic+json": {
              "type": "dataframe",
              "variable_name": "data",
              "summary": "{\n  \"name\": \"data\",\n  \"rows\": 7057,\n  \"fields\": [\n    {\n      \"column\": \"year\",\n      \"properties\": {\n        \"dtype\": \"number\",\n        \"std\": 0,\n        \"min\": 2023,\n        \"max\": 2024,\n        \"num_unique_values\": 2,\n        \"samples\": [\n          2024,\n          2023\n        ],\n        \"semantic_type\": \"\",\n        \"description\": \"\"\n      }\n    },\n    {\n      \"column\": \"month\",\n      \"properties\": {\n        \"dtype\": \"number\",\n        \"std\": 3,\n        \"min\": 1,\n        \"max\": 12,\n        \"num_unique_values\": 12,\n        \"samples\": [\n          11,\n          10\n        ],\n        \"semantic_type\": \"\",\n        \"description\": \"\"\n      }\n    },\n    {\n      \"column\": \"date\",\n      \"properties\": {\n        \"dtype\": \"category\",\n        \"num_unique_values\": 24,\n        \"samples\": [\n          \"Sep-23\",\n          \"May-24\"\n        ],\n        \"semantic_type\": \"\",\n        \"description\": \"\"\n      }\n    },\n    {\n      \"column\": \"customer_id\",\n      \"properties\": {\n        \"dtype\": \"number\",\n        \"std\": 2037,\n        \"min\": 1001,\n        \"max\": 8057,\n        \"num_unique_values\": 7057,\n        \"samples\": [\n          4308,\n          6939\n        ],\n        \"semantic_type\": \"\",\n        \"description\": \"\"\n      }\n    },\n    {\n      \"column\": \"acquisition_channel\",\n      \"properties\": {\n        \"dtype\": \"category\",\n        \"num_unique_values\": 4,\n        \"samples\": [\n          \"meta_ads\",\n          \"google_ads\"\n        ],\n        \"semantic_type\": \"\",\n        \"description\": \"\"\n      }\n    },\n    {\n      \"column\": \"signup_source\",\n      \"properties\": {\n        \"dtype\": \"category\",\n        \"num_unique_values\": 3,\n        \"samples\": [\n          \"web\",\n          \"mobile_app\"\n        ],\n        \"semantic_type\": \"\",\n        \"description\": \"\"\n      }\n    },\n    {\n      \"column\": \"region\",\n      \"properties\": {\n        \"dtype\": \"category\",\n        \"num_unique_values\": 6,\n        \"samples\": [\n          \"North America\",\n          \"LatAm\"\n        ],\n        \"semantic_type\": \"\",\n        \"description\": \"\"\n      }\n    },\n    {\n      \"column\": \"customer_tier\",\n      \"properties\": {\n        \"dtype\": \"category\",\n        \"num_unique_values\": 3,\n        \"samples\": [\n          \"Basic\",\n          \"Pro\"\n        ],\n        \"semantic_type\": \"\",\n        \"description\": \"\"\n      }\n    },\n    {\n      \"column\": \"plan_price\",\n      \"properties\": {\n        \"dtype\": \"number\",\n        \"std\": 126.80108957744072,\n        \"min\": 49.03,\n        \"max\": 498.98,\n        \"num_unique_values\": 6226,\n        \"samples\": [\n          103.95,\n          59.08\n        ],\n        \"semantic_type\": \"\",\n        \"description\": \"\"\n      }\n    },\n    {\n      \"column\": \"discount_rate\",\n      \"properties\": {\n        \"dtype\": \"number\",\n        \"std\": 0.08156278012247319,\n        \"min\": 0.0,\n        \"max\": 0.2,\n        \"num_unique_values\": 3,\n        \"samples\": [\n          0.1,\n          0.0\n        ],\n        \"semantic_type\": \"\",\n        \"description\": \"\"\n      }\n    },\n    {\n      \"column\": \"arpu\",\n      \"properties\": {\n        \"dtype\": \"number\",\n        \"std\": 117.1886853383935,\n        \"min\": 34.18,\n        \"max\": 563.02,\n        \"num_unique_values\": 6207,\n        \"samples\": [\n          326.07,\n          78.19\n        ],\n        \"semantic_type\": \"\",\n        \"description\": \"\"\n      }\n    },\n    {\n      \"column\": \"gross_margin\",\n      \"properties\": {\n        \"dtype\": \"number\",\n        \"std\": 0.04375666078045694,\n        \"min\": 0.75,\n        \"max\": 0.9,\n        \"num_unique_values\": 16,\n        \"samples\": [\n          0.76,\n          0.84\n        ],\n        \"semantic_type\": \"\",\n        \"description\": \"\"\n      }\n    },\n    {\n      \"column\": \"churn_rate\",\n      \"properties\": {\n        \"dtype\": \"number\",\n        \"std\": 0.02951330160685637,\n        \"min\": 0.01,\n        \"max\": 0.1,\n        \"num_unique_values\": 702,\n        \"samples\": [\n          0.0121,\n          0.0532\n        ],\n        \"semantic_type\": \"\",\n        \"description\": \"\"\n      }\n    },\n    {\n      \"column\": \"contract_length_months\",\n      \"properties\": {\n        \"dtype\": \"number\",\n        \"std\": 5,\n        \"min\": 1,\n        \"max\": 12,\n        \"num_unique_values\": 2,\n        \"samples\": [\n          1,\n          12\n        ],\n        \"semantic_type\": \"\",\n        \"description\": \"\"\n      }\n    },\n    {\n      \"column\": \"marketing_spend\",\n      \"properties\": {\n        \"dtype\": \"number\",\n        \"std\": 139.32306575669227,\n        \"min\": 42.5,\n        \"max\": 459.99,\n        \"num_unique_values\": 5683,\n        \"samples\": [\n          193.62,\n          195.79\n        ],\n        \"semantic_type\": \"\",\n        \"description\": \"\"\n      }\n    }\n  ]\n}"
            }
          },
          "metadata": {},
          "execution_count": 3
        }
      ]
    },
    {
      "cell_type": "markdown",
      "source": [
        "Es una base de datos que tiene muchas adquisiciones en diferentes partes del mundo, así mismo distintos clientes"
      ],
      "metadata": {
        "id": "-ae8cM6WCIEY"
      },
      "id": "-ae8cM6WCIEY"
    },
    {
      "cell_type": "markdown",
      "metadata": {
        "id": "Pz-dbPA0hia5"
      },
      "source": [
        "## 🔎 Parte A – Filtros\n",
        "\n",
        "hint: Crea una tabla con el filtro y luego agrupa la variable que te piden.\n",
        "\n",
        "1. **Filtra** los clientes del canal **`meta_ads`**. Calcula el **ARPU promedio** de este subconjunto.  \n",
        "\n"
      ],
      "id": "Pz-dbPA0hia5"
    },
    {
      "cell_type": "code",
      "metadata": {
        "id": "sZnH-WFohia5",
        "colab": {
          "base_uri": "https://localhost:8080/"
        },
        "outputId": "257e450c-5723-4116-f267-64ad0112b1f0"
      },
      "execution_count": 6,
      "outputs": [
        {
          "output_type": "stream",
          "name": "stdout",
          "text": [
            "arpu promedio (meta_ads): 168.78858272162617\n"
          ]
        }
      ],
      "source": [
        "meta_ads = data[data['acquisition_channel'] == 'meta_ads']\n",
        "arpu_promedio = meta_ads['arpu'].mean()\n",
        "print(\"arpu promedio (meta_ads):\",arpu_promedio)"
      ],
      "id": "sZnH-WFohia5"
    },
    {
      "cell_type": "code",
      "source": [
        "meta_ads.head(5)"
      ],
      "metadata": {
        "colab": {
          "base_uri": "https://localhost:8080/",
          "height": 206
        },
        "id": "pSvceOC6E8zf",
        "outputId": "c163c9fc-6aa7-4a88-f71b-ee26f1cd9494"
      },
      "id": "pSvceOC6E8zf",
      "execution_count": 7,
      "outputs": [
        {
          "output_type": "execute_result",
          "data": {
            "text/plain": [
              "    year  month    date  customer_id acquisition_channel signup_source  \\\n",
              "1   2023      1  Jan-23         1002            meta_ads           web   \n",
              "10  2023      1  Jan-23         1011            meta_ads           web   \n",
              "15  2023      1  Jan-23         1016            meta_ads    mobile_app   \n",
              "19  2023      1  Jan-23         1020            meta_ads    mobile_app   \n",
              "23  2023      1  Jan-23         1024            meta_ads    mobile_app   \n",
              "\n",
              "           region customer_tier  plan_price  discount_rate   arpu  \\\n",
              "1           LatAm           Pro      120.23           0.00 124.47   \n",
              "10  North America    Enterprise      341.61           0.00 342.49   \n",
              "15         Europe    Enterprise      282.59           0.00 293.98   \n",
              "19  North America           Pro      197.22           0.00 181.95   \n",
              "23    Middle East           Pro      138.31           0.10 139.64   \n",
              "\n",
              "    gross_margin  churn_rate  contract_length_months  marketing_spend  \n",
              "1           0.84        0.05                       1           352.60  \n",
              "10          0.89        0.07                       1           376.83  \n",
              "15          0.85        0.07                       1           355.55  \n",
              "19          0.76        0.03                      12           363.98  \n",
              "23          0.82        0.08                       1           367.74  "
            ],
            "text/html": [
              "\n",
              "  <div id=\"df-51f89b5e-6dcf-44c2-9632-7a235a18d1b8\" class=\"colab-df-container\">\n",
              "    <div>\n",
              "<style scoped>\n",
              "    .dataframe tbody tr th:only-of-type {\n",
              "        vertical-align: middle;\n",
              "    }\n",
              "\n",
              "    .dataframe tbody tr th {\n",
              "        vertical-align: top;\n",
              "    }\n",
              "\n",
              "    .dataframe thead th {\n",
              "        text-align: right;\n",
              "    }\n",
              "</style>\n",
              "<table border=\"1\" class=\"dataframe\">\n",
              "  <thead>\n",
              "    <tr style=\"text-align: right;\">\n",
              "      <th></th>\n",
              "      <th>year</th>\n",
              "      <th>month</th>\n",
              "      <th>date</th>\n",
              "      <th>customer_id</th>\n",
              "      <th>acquisition_channel</th>\n",
              "      <th>signup_source</th>\n",
              "      <th>region</th>\n",
              "      <th>customer_tier</th>\n",
              "      <th>plan_price</th>\n",
              "      <th>discount_rate</th>\n",
              "      <th>arpu</th>\n",
              "      <th>gross_margin</th>\n",
              "      <th>churn_rate</th>\n",
              "      <th>contract_length_months</th>\n",
              "      <th>marketing_spend</th>\n",
              "    </tr>\n",
              "  </thead>\n",
              "  <tbody>\n",
              "    <tr>\n",
              "      <th>1</th>\n",
              "      <td>2023</td>\n",
              "      <td>1</td>\n",
              "      <td>Jan-23</td>\n",
              "      <td>1002</td>\n",
              "      <td>meta_ads</td>\n",
              "      <td>web</td>\n",
              "      <td>LatAm</td>\n",
              "      <td>Pro</td>\n",
              "      <td>120.23</td>\n",
              "      <td>0.00</td>\n",
              "      <td>124.47</td>\n",
              "      <td>0.84</td>\n",
              "      <td>0.05</td>\n",
              "      <td>1</td>\n",
              "      <td>352.60</td>\n",
              "    </tr>\n",
              "    <tr>\n",
              "      <th>10</th>\n",
              "      <td>2023</td>\n",
              "      <td>1</td>\n",
              "      <td>Jan-23</td>\n",
              "      <td>1011</td>\n",
              "      <td>meta_ads</td>\n",
              "      <td>web</td>\n",
              "      <td>North America</td>\n",
              "      <td>Enterprise</td>\n",
              "      <td>341.61</td>\n",
              "      <td>0.00</td>\n",
              "      <td>342.49</td>\n",
              "      <td>0.89</td>\n",
              "      <td>0.07</td>\n",
              "      <td>1</td>\n",
              "      <td>376.83</td>\n",
              "    </tr>\n",
              "    <tr>\n",
              "      <th>15</th>\n",
              "      <td>2023</td>\n",
              "      <td>1</td>\n",
              "      <td>Jan-23</td>\n",
              "      <td>1016</td>\n",
              "      <td>meta_ads</td>\n",
              "      <td>mobile_app</td>\n",
              "      <td>Europe</td>\n",
              "      <td>Enterprise</td>\n",
              "      <td>282.59</td>\n",
              "      <td>0.00</td>\n",
              "      <td>293.98</td>\n",
              "      <td>0.85</td>\n",
              "      <td>0.07</td>\n",
              "      <td>1</td>\n",
              "      <td>355.55</td>\n",
              "    </tr>\n",
              "    <tr>\n",
              "      <th>19</th>\n",
              "      <td>2023</td>\n",
              "      <td>1</td>\n",
              "      <td>Jan-23</td>\n",
              "      <td>1020</td>\n",
              "      <td>meta_ads</td>\n",
              "      <td>mobile_app</td>\n",
              "      <td>North America</td>\n",
              "      <td>Pro</td>\n",
              "      <td>197.22</td>\n",
              "      <td>0.00</td>\n",
              "      <td>181.95</td>\n",
              "      <td>0.76</td>\n",
              "      <td>0.03</td>\n",
              "      <td>12</td>\n",
              "      <td>363.98</td>\n",
              "    </tr>\n",
              "    <tr>\n",
              "      <th>23</th>\n",
              "      <td>2023</td>\n",
              "      <td>1</td>\n",
              "      <td>Jan-23</td>\n",
              "      <td>1024</td>\n",
              "      <td>meta_ads</td>\n",
              "      <td>mobile_app</td>\n",
              "      <td>Middle East</td>\n",
              "      <td>Pro</td>\n",
              "      <td>138.31</td>\n",
              "      <td>0.10</td>\n",
              "      <td>139.64</td>\n",
              "      <td>0.82</td>\n",
              "      <td>0.08</td>\n",
              "      <td>1</td>\n",
              "      <td>367.74</td>\n",
              "    </tr>\n",
              "  </tbody>\n",
              "</table>\n",
              "</div>\n",
              "    <div class=\"colab-df-buttons\">\n",
              "\n",
              "  <div class=\"colab-df-container\">\n",
              "    <button class=\"colab-df-convert\" onclick=\"convertToInteractive('df-51f89b5e-6dcf-44c2-9632-7a235a18d1b8')\"\n",
              "            title=\"Convert this dataframe to an interactive table.\"\n",
              "            style=\"display:none;\">\n",
              "\n",
              "  <svg xmlns=\"http://www.w3.org/2000/svg\" height=\"24px\" viewBox=\"0 -960 960 960\">\n",
              "    <path d=\"M120-120v-720h720v720H120Zm60-500h600v-160H180v160Zm220 220h160v-160H400v160Zm0 220h160v-160H400v160ZM180-400h160v-160H180v160Zm440 0h160v-160H620v160ZM180-180h160v-160H180v160Zm440 0h160v-160H620v160Z\"/>\n",
              "  </svg>\n",
              "    </button>\n",
              "\n",
              "  <style>\n",
              "    .colab-df-container {\n",
              "      display:flex;\n",
              "      gap: 12px;\n",
              "    }\n",
              "\n",
              "    .colab-df-convert {\n",
              "      background-color: #E8F0FE;\n",
              "      border: none;\n",
              "      border-radius: 50%;\n",
              "      cursor: pointer;\n",
              "      display: none;\n",
              "      fill: #1967D2;\n",
              "      height: 32px;\n",
              "      padding: 0 0 0 0;\n",
              "      width: 32px;\n",
              "    }\n",
              "\n",
              "    .colab-df-convert:hover {\n",
              "      background-color: #E2EBFA;\n",
              "      box-shadow: 0px 1px 2px rgba(60, 64, 67, 0.3), 0px 1px 3px 1px rgba(60, 64, 67, 0.15);\n",
              "      fill: #174EA6;\n",
              "    }\n",
              "\n",
              "    .colab-df-buttons div {\n",
              "      margin-bottom: 4px;\n",
              "    }\n",
              "\n",
              "    [theme=dark] .colab-df-convert {\n",
              "      background-color: #3B4455;\n",
              "      fill: #D2E3FC;\n",
              "    }\n",
              "\n",
              "    [theme=dark] .colab-df-convert:hover {\n",
              "      background-color: #434B5C;\n",
              "      box-shadow: 0px 1px 3px 1px rgba(0, 0, 0, 0.15);\n",
              "      filter: drop-shadow(0px 1px 2px rgba(0, 0, 0, 0.3));\n",
              "      fill: #FFFFFF;\n",
              "    }\n",
              "  </style>\n",
              "\n",
              "    <script>\n",
              "      const buttonEl =\n",
              "        document.querySelector('#df-51f89b5e-6dcf-44c2-9632-7a235a18d1b8 button.colab-df-convert');\n",
              "      buttonEl.style.display =\n",
              "        google.colab.kernel.accessAllowed ? 'block' : 'none';\n",
              "\n",
              "      async function convertToInteractive(key) {\n",
              "        const element = document.querySelector('#df-51f89b5e-6dcf-44c2-9632-7a235a18d1b8');\n",
              "        const dataTable =\n",
              "          await google.colab.kernel.invokeFunction('convertToInteractive',\n",
              "                                                    [key], {});\n",
              "        if (!dataTable) return;\n",
              "\n",
              "        const docLinkHtml = 'Like what you see? Visit the ' +\n",
              "          '<a target=\"_blank\" href=https://colab.research.google.com/notebooks/data_table.ipynb>data table notebook</a>'\n",
              "          + ' to learn more about interactive tables.';\n",
              "        element.innerHTML = '';\n",
              "        dataTable['output_type'] = 'display_data';\n",
              "        await google.colab.output.renderOutput(dataTable, element);\n",
              "        const docLink = document.createElement('div');\n",
              "        docLink.innerHTML = docLinkHtml;\n",
              "        element.appendChild(docLink);\n",
              "      }\n",
              "    </script>\n",
              "  </div>\n",
              "\n",
              "\n",
              "    <div id=\"df-ff9fac44-0dae-4c28-a1cc-b8b6d867b935\">\n",
              "      <button class=\"colab-df-quickchart\" onclick=\"quickchart('df-ff9fac44-0dae-4c28-a1cc-b8b6d867b935')\"\n",
              "                title=\"Suggest charts\"\n",
              "                style=\"display:none;\">\n",
              "\n",
              "<svg xmlns=\"http://www.w3.org/2000/svg\" height=\"24px\"viewBox=\"0 0 24 24\"\n",
              "     width=\"24px\">\n",
              "    <g>\n",
              "        <path d=\"M19 3H5c-1.1 0-2 .9-2 2v14c0 1.1.9 2 2 2h14c1.1 0 2-.9 2-2V5c0-1.1-.9-2-2-2zM9 17H7v-7h2v7zm4 0h-2V7h2v10zm4 0h-2v-4h2v4z\"/>\n",
              "    </g>\n",
              "</svg>\n",
              "      </button>\n",
              "\n",
              "<style>\n",
              "  .colab-df-quickchart {\n",
              "      --bg-color: #E8F0FE;\n",
              "      --fill-color: #1967D2;\n",
              "      --hover-bg-color: #E2EBFA;\n",
              "      --hover-fill-color: #174EA6;\n",
              "      --disabled-fill-color: #AAA;\n",
              "      --disabled-bg-color: #DDD;\n",
              "  }\n",
              "\n",
              "  [theme=dark] .colab-df-quickchart {\n",
              "      --bg-color: #3B4455;\n",
              "      --fill-color: #D2E3FC;\n",
              "      --hover-bg-color: #434B5C;\n",
              "      --hover-fill-color: #FFFFFF;\n",
              "      --disabled-bg-color: #3B4455;\n",
              "      --disabled-fill-color: #666;\n",
              "  }\n",
              "\n",
              "  .colab-df-quickchart {\n",
              "    background-color: var(--bg-color);\n",
              "    border: none;\n",
              "    border-radius: 50%;\n",
              "    cursor: pointer;\n",
              "    display: none;\n",
              "    fill: var(--fill-color);\n",
              "    height: 32px;\n",
              "    padding: 0;\n",
              "    width: 32px;\n",
              "  }\n",
              "\n",
              "  .colab-df-quickchart:hover {\n",
              "    background-color: var(--hover-bg-color);\n",
              "    box-shadow: 0 1px 2px rgba(60, 64, 67, 0.3), 0 1px 3px 1px rgba(60, 64, 67, 0.15);\n",
              "    fill: var(--button-hover-fill-color);\n",
              "  }\n",
              "\n",
              "  .colab-df-quickchart-complete:disabled,\n",
              "  .colab-df-quickchart-complete:disabled:hover {\n",
              "    background-color: var(--disabled-bg-color);\n",
              "    fill: var(--disabled-fill-color);\n",
              "    box-shadow: none;\n",
              "  }\n",
              "\n",
              "  .colab-df-spinner {\n",
              "    border: 2px solid var(--fill-color);\n",
              "    border-color: transparent;\n",
              "    border-bottom-color: var(--fill-color);\n",
              "    animation:\n",
              "      spin 1s steps(1) infinite;\n",
              "  }\n",
              "\n",
              "  @keyframes spin {\n",
              "    0% {\n",
              "      border-color: transparent;\n",
              "      border-bottom-color: var(--fill-color);\n",
              "      border-left-color: var(--fill-color);\n",
              "    }\n",
              "    20% {\n",
              "      border-color: transparent;\n",
              "      border-left-color: var(--fill-color);\n",
              "      border-top-color: var(--fill-color);\n",
              "    }\n",
              "    30% {\n",
              "      border-color: transparent;\n",
              "      border-left-color: var(--fill-color);\n",
              "      border-top-color: var(--fill-color);\n",
              "      border-right-color: var(--fill-color);\n",
              "    }\n",
              "    40% {\n",
              "      border-color: transparent;\n",
              "      border-right-color: var(--fill-color);\n",
              "      border-top-color: var(--fill-color);\n",
              "    }\n",
              "    60% {\n",
              "      border-color: transparent;\n",
              "      border-right-color: var(--fill-color);\n",
              "    }\n",
              "    80% {\n",
              "      border-color: transparent;\n",
              "      border-right-color: var(--fill-color);\n",
              "      border-bottom-color: var(--fill-color);\n",
              "    }\n",
              "    90% {\n",
              "      border-color: transparent;\n",
              "      border-bottom-color: var(--fill-color);\n",
              "    }\n",
              "  }\n",
              "</style>\n",
              "\n",
              "      <script>\n",
              "        async function quickchart(key) {\n",
              "          const quickchartButtonEl =\n",
              "            document.querySelector('#' + key + ' button');\n",
              "          quickchartButtonEl.disabled = true;  // To prevent multiple clicks.\n",
              "          quickchartButtonEl.classList.add('colab-df-spinner');\n",
              "          try {\n",
              "            const charts = await google.colab.kernel.invokeFunction(\n",
              "                'suggestCharts', [key], {});\n",
              "          } catch (error) {\n",
              "            console.error('Error during call to suggestCharts:', error);\n",
              "          }\n",
              "          quickchartButtonEl.classList.remove('colab-df-spinner');\n",
              "          quickchartButtonEl.classList.add('colab-df-quickchart-complete');\n",
              "        }\n",
              "        (() => {\n",
              "          let quickchartButtonEl =\n",
              "            document.querySelector('#df-ff9fac44-0dae-4c28-a1cc-b8b6d867b935 button');\n",
              "          quickchartButtonEl.style.display =\n",
              "            google.colab.kernel.accessAllowed ? 'block' : 'none';\n",
              "        })();\n",
              "      </script>\n",
              "    </div>\n",
              "\n",
              "    </div>\n",
              "  </div>\n"
            ],
            "application/vnd.google.colaboratory.intrinsic+json": {
              "type": "dataframe",
              "variable_name": "meta_ads",
              "summary": "{\n  \"name\": \"meta_ads\",\n  \"rows\": 1771,\n  \"fields\": [\n    {\n      \"column\": \"year\",\n      \"properties\": {\n        \"dtype\": \"number\",\n        \"std\": 0,\n        \"min\": 2023,\n        \"max\": 2024,\n        \"num_unique_values\": 2,\n        \"samples\": [\n          2024,\n          2023\n        ],\n        \"semantic_type\": \"\",\n        \"description\": \"\"\n      }\n    },\n    {\n      \"column\": \"month\",\n      \"properties\": {\n        \"dtype\": \"number\",\n        \"std\": 3,\n        \"min\": 1,\n        \"max\": 12,\n        \"num_unique_values\": 12,\n        \"samples\": [\n          11,\n          10\n        ],\n        \"semantic_type\": \"\",\n        \"description\": \"\"\n      }\n    },\n    {\n      \"column\": \"date\",\n      \"properties\": {\n        \"dtype\": \"category\",\n        \"num_unique_values\": 24,\n        \"samples\": [\n          \"Sep-23\",\n          \"May-24\"\n        ],\n        \"semantic_type\": \"\",\n        \"description\": \"\"\n      }\n    },\n    {\n      \"column\": \"customer_id\",\n      \"properties\": {\n        \"dtype\": \"number\",\n        \"std\": 2039,\n        \"min\": 1002,\n        \"max\": 8056,\n        \"num_unique_values\": 1771,\n        \"samples\": [\n          4862,\n          2091\n        ],\n        \"semantic_type\": \"\",\n        \"description\": \"\"\n      }\n    },\n    {\n      \"column\": \"acquisition_channel\",\n      \"properties\": {\n        \"dtype\": \"category\",\n        \"num_unique_values\": 1,\n        \"samples\": [\n          \"meta_ads\"\n        ],\n        \"semantic_type\": \"\",\n        \"description\": \"\"\n      }\n    },\n    {\n      \"column\": \"signup_source\",\n      \"properties\": {\n        \"dtype\": \"category\",\n        \"num_unique_values\": 3,\n        \"samples\": [\n          \"web\"\n        ],\n        \"semantic_type\": \"\",\n        \"description\": \"\"\n      }\n    },\n    {\n      \"column\": \"region\",\n      \"properties\": {\n        \"dtype\": \"category\",\n        \"num_unique_values\": 6,\n        \"samples\": [\n          \"LatAm\"\n        ],\n        \"semantic_type\": \"\",\n        \"description\": \"\"\n      }\n    },\n    {\n      \"column\": \"customer_tier\",\n      \"properties\": {\n        \"dtype\": \"category\",\n        \"num_unique_values\": 3,\n        \"samples\": [\n          \"Pro\"\n        ],\n        \"semantic_type\": \"\",\n        \"description\": \"\"\n      }\n    },\n    {\n      \"column\": \"plan_price\",\n      \"properties\": {\n        \"dtype\": \"number\",\n        \"std\": 126.64634903702878,\n        \"min\": 49.04,\n        \"max\": 498.93,\n        \"num_unique_values\": 1705,\n        \"samples\": [\n          78.89\n        ],\n        \"semantic_type\": \"\",\n        \"description\": \"\"\n      }\n    },\n    {\n      \"column\": \"discount_rate\",\n      \"properties\": {\n        \"dtype\": \"number\",\n        \"std\": 0.08171601264865927,\n        \"min\": 0.0,\n        \"max\": 0.2,\n        \"num_unique_values\": 3,\n        \"samples\": [\n          0.0\n        ],\n        \"semantic_type\": \"\",\n        \"description\": \"\"\n      }\n    },\n    {\n      \"column\": \"arpu\",\n      \"properties\": {\n        \"dtype\": \"number\",\n        \"std\": 117.42703545660075,\n        \"min\": 34.18,\n        \"max\": 559.35,\n        \"num_unique_values\": 1721,\n        \"samples\": [\n          226.39\n        ],\n        \"semantic_type\": \"\",\n        \"description\": \"\"\n      }\n    },\n    {\n      \"column\": \"gross_margin\",\n      \"properties\": {\n        \"dtype\": \"number\",\n        \"std\": 0.04360631730201831,\n        \"min\": 0.75,\n        \"max\": 0.9,\n        \"num_unique_values\": 16,\n        \"samples\": [\n          0.84\n        ],\n        \"semantic_type\": \"\",\n        \"description\": \"\"\n      }\n    },\n    {\n      \"column\": \"churn_rate\",\n      \"properties\": {\n        \"dtype\": \"number\",\n        \"std\": 0.029965822990470816,\n        \"min\": 0.01,\n        \"max\": 0.0999,\n        \"num_unique_values\": 639,\n        \"samples\": [\n          0.013\n        ],\n        \"semantic_type\": \"\",\n        \"description\": \"\"\n      }\n    },\n    {\n      \"column\": \"contract_length_months\",\n      \"properties\": {\n        \"dtype\": \"number\",\n        \"std\": 5,\n        \"min\": 1,\n        \"max\": 12,\n        \"num_unique_values\": 2,\n        \"samples\": [\n          12\n        ],\n        \"semantic_type\": \"\",\n        \"description\": \"\"\n      }\n    },\n    {\n      \"column\": \"marketing_spend\",\n      \"properties\": {\n        \"dtype\": \"number\",\n        \"std\": 30.47052059702171,\n        \"min\": 297.51,\n        \"max\": 402.48,\n        \"num_unique_values\": 1644,\n        \"samples\": [\n          360.62\n        ],\n        \"semantic_type\": \"\",\n        \"description\": \"\"\n      }\n    }\n  ]\n}"
            }
          },
          "metadata": {},
          "execution_count": 7
        }
      ]
    },
    {
      "cell_type": "markdown",
      "source": [
        "2. **Filtra** clientes de **LatAm** con **`churn_rate > 0.05`**. ¿Cuántos son? ¿Cuál es su **ARPU promedio**?  "
      ],
      "metadata": {
        "id": "L35ewVEKkF8S"
      },
      "id": "L35ewVEKkF8S"
    },
    {
      "cell_type": "code",
      "source": [
        "churn_rate_latam = data[(data['region'] == 'LatAm') & (data['churn_rate'] > 0.05)]\n",
        "arpu_promedio = meta_ads['arpu'].mean()\n",
        "print(\"arpu promedio (meta_ads):\",arpu_promedio)"
      ],
      "metadata": {
        "id": "migcCxy1kExA",
        "colab": {
          "base_uri": "https://localhost:8080/"
        },
        "outputId": "36f631ce-6565-4542-afb6-b572ceab6c29"
      },
      "id": "migcCxy1kExA",
      "execution_count": 10,
      "outputs": [
        {
          "output_type": "stream",
          "name": "stdout",
          "text": [
            "arpu promedio (meta_ads): 168.78858272162617\n"
          ]
        }
      ]
    },
    {
      "cell_type": "markdown",
      "source": [
        "3. **Filtra** clientes **Enterprise** con `contract_length_months > 6`. ¿Cuál es su **gross_margin promedio**?"
      ],
      "metadata": {
        "id": "FAmAB5cskHwK"
      },
      "id": "FAmAB5cskHwK"
    },
    {
      "cell_type": "code",
      "source": [
        "contract_length_months = data[(data['customer_tier'] == 'Enterprise') & (data['contract_length_months'] > 6)]\n",
        "gross_margin_promedio = contract_length_months['gross_margin'].mean()\n",
        "gross_margin_promedio = meta_ads['gross_margin'].mean()\n",
        "print(\"gross_margin promedio (meta_ads):\",gross_margin_promedio)"
      ],
      "metadata": {
        "id": "qwkFGvWAjBm1",
        "colab": {
          "base_uri": "https://localhost:8080/"
        },
        "outputId": "ccf1c1a4-c935-4ad9-89b8-c8910c5d19b0"
      },
      "id": "qwkFGvWAjBm1",
      "execution_count": 11,
      "outputs": [
        {
          "output_type": "stream",
          "name": "stdout",
          "text": [
            "gross_margin promedio (meta_ads): 0.8250197628458499\n"
          ]
        }
      ]
    },
    {
      "cell_type": "markdown",
      "metadata": {
        "id": "iITo0wtIhia5"
      },
      "source": [
        "## 📊 Parte B – Agrupaciones (SOLO agrupar)\n",
        "4. **Agrupa** por `acquisition_channel` y calcula **ARPU promedio**. Ordena de mayor a menor.  \n"
      ],
      "id": "iITo0wtIhia5"
    },
    {
      "cell_type": "code",
      "metadata": {
        "id": "DFPq1MRLhia5",
        "colab": {
          "base_uri": "https://localhost:8080/"
        },
        "outputId": "b6c31d32-1db2-4688-c393-0e761929a9d9"
      },
      "execution_count": 19,
      "outputs": [
        {
          "output_type": "stream",
          "name": "stdout",
          "text": [
            "acquisition_channel\n",
            "outbound_sales   173.61\n",
            "google_ads       172.37\n",
            "organic_search   171.14\n",
            "meta_ads         168.79\n",
            "Name: arpu, dtype: float64\n"
          ]
        }
      ],
      "source": [
        "acquisition_channel = data.groupby('acquisition_channel')['arpu'].mean().sort_values(ascending=False)\n",
        "print(acquisition_channel)"
      ],
      "id": "DFPq1MRLhia5"
    },
    {
      "cell_type": "markdown",
      "source": [
        "5. **Agrupa** por `region` y calcula **churn_rate promedio**. Identifica la región con mayor churn.  \n",
        "\n"
      ],
      "metadata": {
        "id": "m8g2T45ZkSIu"
      },
      "id": "m8g2T45ZkSIu"
    },
    {
      "cell_type": "code",
      "source": [
        "region = data.groupby('region')['churn_rate'].mean().sort_values(ascending=False)\n",
        "print(region)"
      ],
      "metadata": {
        "id": "cs-0oGyfkUNU",
        "colab": {
          "base_uri": "https://localhost:8080/"
        },
        "outputId": "1cc14cba-a2ad-467c-d814-60e930a8d0bb"
      },
      "id": "cs-0oGyfkUNU",
      "execution_count": 20,
      "outputs": [
        {
          "output_type": "stream",
          "name": "stdout",
          "text": [
            "region\n",
            "Middle East     0.05\n",
            "LatAm           0.05\n",
            "North America   0.05\n",
            "APAC            0.05\n",
            "Europe          0.05\n",
            "Africa          0.05\n",
            "Name: churn_rate, dtype: float64\n"
          ]
        }
      ]
    },
    {
      "cell_type": "markdown",
      "source": [
        "6. **Agrupa** por `customer_tier` y calcula **marketing_spend total**. ¿Cuál tier consume más presupuesto?"
      ],
      "metadata": {
        "id": "snguEL66kTgQ"
      },
      "id": "snguEL66kTgQ"
    },
    {
      "cell_type": "code",
      "source": [
        "marketing_spend = data.groupby('customer_tier')['marketing_spend'].sum()\n",
        "print(marketing_spend)"
      ],
      "metadata": {
        "id": "sScC7EbgkUqO",
        "colab": {
          "base_uri": "https://localhost:8080/"
        },
        "outputId": "fb6a0d66-5e8a-47d9-b796-50f068b35ced"
      },
      "id": "sScC7EbgkUqO",
      "execution_count": 21,
      "outputs": [
        {
          "output_type": "stream",
          "name": "stdout",
          "text": [
            "customer_tier\n",
            "Basic        584,419.11\n",
            "Enterprise   584,348.87\n",
            "Pro          589,265.04\n",
            "Name: marketing_spend, dtype: float64\n"
          ]
        }
      ]
    },
    {
      "cell_type": "markdown",
      "metadata": {
        "id": "F8iPMr3Phia6"
      },
      "source": [
        "## 🔀 Parte C – Filtro **y** Agrupación (Ambas)\n",
        "7. **Filtra** solo registros de **`signup_source = 'web'`** y luego **agrupa** por `acquisition_channel` para obtener el **churn_rate promedio**.  \n"
      ],
      "id": "F8iPMr3Phia6"
    },
    {
      "cell_type": "code",
      "metadata": {
        "id": "4beaTTDqhia6",
        "colab": {
          "base_uri": "https://localhost:8080/"
        },
        "outputId": "6d92a1fc-56c1-4cb1-9573-6b1f1f30a824"
      },
      "execution_count": 22,
      "outputs": [
        {
          "output_type": "stream",
          "name": "stdout",
          "text": [
            "acquisition_channel\n",
            "google_ads       0.05\n",
            "meta_ads         0.05\n",
            "organic_search   0.05\n",
            "outbound_sales   0.05\n",
            "Name: churn_rate, dtype: float64\n"
          ]
        }
      ],
      "source": [
        "signup_source = data[data['signup_source'] == 'web']\n",
        "churn_rate = signup_source.groupby('acquisition_channel')['churn_rate'].mean()\n",
        "print(churn_rate)"
      ],
      "id": "4beaTTDqhia6"
    },
    {
      "cell_type": "markdown",
      "source": [
        "8. **Filtra** solo **`mobile_app`** y luego **agrupa** por `region` para calcular **ARPU promedio**.  \n"
      ],
      "metadata": {
        "id": "mDlYBs3bkgP3"
      },
      "id": "mDlYBs3bkgP3"
    },
    {
      "cell_type": "code",
      "source": [
        "mobile_app = data[data['signup_source'] == 'mobile_app']\n",
        "arpu = mobile_app.groupby('region')['arpu'].mean()\n",
        "print(arpu)"
      ],
      "metadata": {
        "id": "sStudHFWkhd-",
        "colab": {
          "base_uri": "https://localhost:8080/"
        },
        "outputId": "152151f2-5a6f-4bb1-86f0-61f04780c6a3"
      },
      "id": "sStudHFWkhd-",
      "execution_count": 23,
      "outputs": [
        {
          "output_type": "stream",
          "name": "stdout",
          "text": [
            "region\n",
            "APAC            169.09\n",
            "Africa          172.60\n",
            "Europe          165.89\n",
            "LatAm           173.20\n",
            "Middle East     171.71\n",
            "North America   174.00\n",
            "Name: arpu, dtype: float64\n"
          ]
        }
      ]
    },
    {
      "cell_type": "markdown",
      "source": [
        "9. **Filtra** a clientes **`Pro`** y **agrupa** por `acquisition_channel` para calcular **marketing_spend total**.\n"
      ],
      "metadata": {
        "id": "-HGz_njqkht4"
      },
      "id": "-HGz_njqkht4"
    },
    {
      "cell_type": "code",
      "source": [
        "customer_tier = data[data['customer_tier'] == 'Pro']\n",
        "marketing_spend = customer_tirest.groupby('acquisition_channel')['marketing_spend'].sum()\n",
        "print(marketing_spend)"
      ],
      "metadata": {
        "id": "XKoIbLfVkiYV",
        "colab": {
          "base_uri": "https://localhost:8080/"
        },
        "outputId": "3d0b8ec8-319a-4b5b-d1c5-60887957ce46"
      },
      "id": "XKoIbLfVkiYV",
      "execution_count": 26,
      "outputs": [
        {
          "output_type": "stream",
          "name": "stdout",
          "text": [
            "acquisition_channel\n",
            "google_ads       226,721.68\n",
            "meta_ads         211,517.60\n",
            "organic_search    29,848.72\n",
            "outbound_sales   121,177.04\n",
            "Name: marketing_spend, dtype: float64\n"
          ]
        }
      ]
    },
    {
      "cell_type": "markdown",
      "metadata": {
        "id": "ZQ1HYAXmhia6"
      },
      "source": [
        "## 📈 Parte D – Métricas de negocio (CAC, LTV, LTV/CAC)\n",
        "10. **CAC por canal (Agrupa)**: calcula el CAC de cada `acquisition_channel` como:  \n",
        "   `CAC = marketing_spend_total_del_canal / #clientes_del_canal`  \n"
      ],
      "id": "ZQ1HYAXmhia6"
    },
    {
      "cell_type": "code",
      "metadata": {
        "id": "KpT2rkY0hia6",
        "colab": {
          "base_uri": "https://localhost:8080/"
        },
        "outputId": "b9c60379-3404-4bf7-d0f0-b0fb730d8f02"
      },
      "execution_count": 27,
      "outputs": [
        {
          "output_type": "stream",
          "name": "stdout",
          "text": [
            "acquisition_channel\n",
            "google_ads       401.02\n",
            "meta_ads         349.27\n",
            "organic_search    49.95\n",
            "outbound_sales   200.22\n",
            "dtype: float64\n"
          ]
        }
      ],
      "source": [
        "CAC= data.groupby('acquisition_channel')['marketing_spend'].sum() / data.groupby('acquisition_channel')['customer_id'].count()\n",
        "print(CAC)"
      ],
      "id": "KpT2rkY0hia6"
    },
    {
      "cell_type": "markdown",
      "source": [
        "11. **CAC por tier (Agrupa)**: calcula el CAC de cada `customer_tier` como:  \n",
        "   `CAC = marketing_spend_total_del_tier / #clientes_del_canal`  \n"
      ],
      "metadata": {
        "id": "Dtyl7uKTmaJi"
      },
      "id": "Dtyl7uKTmaJi"
    },
    {
      "cell_type": "code",
      "source": [
        "CAC= data.groupby('customer_tier')['marketing_spend'].sum() / data.groupby('customer_tier')['customer_id'].count()\n",
        "print(CAC)"
      ],
      "metadata": {
        "id": "xAR6WFylmoPI",
        "colab": {
          "base_uri": "https://localhost:8080/"
        },
        "outputId": "ef667254-a267-4a01-cafb-c26526a71651"
      },
      "id": "xAR6WFylmoPI",
      "execution_count": 28,
      "outputs": [
        {
          "output_type": "stream",
          "name": "stdout",
          "text": [
            "customer_tier\n",
            "Basic        249.75\n",
            "Enterprise   249.19\n",
            "Pro          248.43\n",
            "dtype: float64\n"
          ]
        }
      ]
    },
    {
      "cell_type": "markdown",
      "source": [
        "12. **LTV por tier (Ambas)**: crea una columna `ltv_individual` con la fórmula dada.\n"
      ],
      "metadata": {
        "id": "BL42ZC46mvfJ"
      },
      "id": "BL42ZC46mvfJ"
    },
    {
      "cell_type": "code",
      "source": [
        "LTV = data['arpu'] * data['contract_length_months'] * data['gross_margin'] * (1 - data['churn_rate'])\n",
        "data['ltv_individual'] = LTV\n",
        "data.head(5)"
      ],
      "metadata": {
        "id": "cAx0zUG7nxXD",
        "colab": {
          "base_uri": "https://localhost:8080/",
          "height": 206
        },
        "outputId": "83d5ce7a-ef84-417c-c96a-9a78813d1219"
      },
      "id": "cAx0zUG7nxXD",
      "execution_count": 30,
      "outputs": [
        {
          "output_type": "execute_result",
          "data": {
            "text/plain": [
              "   year  month    date  customer_id acquisition_channel signup_source  \\\n",
              "0  2023      1  Jan-23         1001      outbound_sales           web   \n",
              "1  2023      1  Jan-23         1002            meta_ads           web   \n",
              "2  2023      1  Jan-23         1003      organic_search    mobile_app   \n",
              "3  2023      1  Jan-23         1004      organic_search           web   \n",
              "4  2023      1  Jan-23         1005      organic_search           web   \n",
              "\n",
              "          region customer_tier  plan_price  discount_rate   arpu  \\\n",
              "0  North America         Basic       78.84           0.10  63.63   \n",
              "1          LatAm           Pro      120.23           0.00 124.47   \n",
              "2  North America    Enterprise      335.82           0.20 278.20   \n",
              "3         Europe           Pro      193.89           0.10 190.65   \n",
              "4           APAC    Enterprise      471.80           0.10 445.32   \n",
              "\n",
              "   gross_margin  churn_rate  contract_length_months  marketing_spend  \\\n",
              "0          0.76        0.02                      12           212.48   \n",
              "1          0.84        0.05                       1           352.60   \n",
              "2          0.81        0.02                      12            55.40   \n",
              "3          0.80        0.08                       1            49.10   \n",
              "4          0.80        0.08                       1            45.27   \n",
              "\n",
              "   ltv_individual  \n",
              "0          567.54  \n",
              "1           99.20  \n",
              "2        2,651.91  \n",
              "3          139.68  \n",
              "4          328.72  "
            ],
            "text/html": [
              "\n",
              "  <div id=\"df-ff0aab4a-8c19-4515-9c3b-e9c41814f01b\" class=\"colab-df-container\">\n",
              "    <div>\n",
              "<style scoped>\n",
              "    .dataframe tbody tr th:only-of-type {\n",
              "        vertical-align: middle;\n",
              "    }\n",
              "\n",
              "    .dataframe tbody tr th {\n",
              "        vertical-align: top;\n",
              "    }\n",
              "\n",
              "    .dataframe thead th {\n",
              "        text-align: right;\n",
              "    }\n",
              "</style>\n",
              "<table border=\"1\" class=\"dataframe\">\n",
              "  <thead>\n",
              "    <tr style=\"text-align: right;\">\n",
              "      <th></th>\n",
              "      <th>year</th>\n",
              "      <th>month</th>\n",
              "      <th>date</th>\n",
              "      <th>customer_id</th>\n",
              "      <th>acquisition_channel</th>\n",
              "      <th>signup_source</th>\n",
              "      <th>region</th>\n",
              "      <th>customer_tier</th>\n",
              "      <th>plan_price</th>\n",
              "      <th>discount_rate</th>\n",
              "      <th>arpu</th>\n",
              "      <th>gross_margin</th>\n",
              "      <th>churn_rate</th>\n",
              "      <th>contract_length_months</th>\n",
              "      <th>marketing_spend</th>\n",
              "      <th>ltv_individual</th>\n",
              "    </tr>\n",
              "  </thead>\n",
              "  <tbody>\n",
              "    <tr>\n",
              "      <th>0</th>\n",
              "      <td>2023</td>\n",
              "      <td>1</td>\n",
              "      <td>Jan-23</td>\n",
              "      <td>1001</td>\n",
              "      <td>outbound_sales</td>\n",
              "      <td>web</td>\n",
              "      <td>North America</td>\n",
              "      <td>Basic</td>\n",
              "      <td>78.84</td>\n",
              "      <td>0.10</td>\n",
              "      <td>63.63</td>\n",
              "      <td>0.76</td>\n",
              "      <td>0.02</td>\n",
              "      <td>12</td>\n",
              "      <td>212.48</td>\n",
              "      <td>567.54</td>\n",
              "    </tr>\n",
              "    <tr>\n",
              "      <th>1</th>\n",
              "      <td>2023</td>\n",
              "      <td>1</td>\n",
              "      <td>Jan-23</td>\n",
              "      <td>1002</td>\n",
              "      <td>meta_ads</td>\n",
              "      <td>web</td>\n",
              "      <td>LatAm</td>\n",
              "      <td>Pro</td>\n",
              "      <td>120.23</td>\n",
              "      <td>0.00</td>\n",
              "      <td>124.47</td>\n",
              "      <td>0.84</td>\n",
              "      <td>0.05</td>\n",
              "      <td>1</td>\n",
              "      <td>352.60</td>\n",
              "      <td>99.20</td>\n",
              "    </tr>\n",
              "    <tr>\n",
              "      <th>2</th>\n",
              "      <td>2023</td>\n",
              "      <td>1</td>\n",
              "      <td>Jan-23</td>\n",
              "      <td>1003</td>\n",
              "      <td>organic_search</td>\n",
              "      <td>mobile_app</td>\n",
              "      <td>North America</td>\n",
              "      <td>Enterprise</td>\n",
              "      <td>335.82</td>\n",
              "      <td>0.20</td>\n",
              "      <td>278.20</td>\n",
              "      <td>0.81</td>\n",
              "      <td>0.02</td>\n",
              "      <td>12</td>\n",
              "      <td>55.40</td>\n",
              "      <td>2,651.91</td>\n",
              "    </tr>\n",
              "    <tr>\n",
              "      <th>3</th>\n",
              "      <td>2023</td>\n",
              "      <td>1</td>\n",
              "      <td>Jan-23</td>\n",
              "      <td>1004</td>\n",
              "      <td>organic_search</td>\n",
              "      <td>web</td>\n",
              "      <td>Europe</td>\n",
              "      <td>Pro</td>\n",
              "      <td>193.89</td>\n",
              "      <td>0.10</td>\n",
              "      <td>190.65</td>\n",
              "      <td>0.80</td>\n",
              "      <td>0.08</td>\n",
              "      <td>1</td>\n",
              "      <td>49.10</td>\n",
              "      <td>139.68</td>\n",
              "    </tr>\n",
              "    <tr>\n",
              "      <th>4</th>\n",
              "      <td>2023</td>\n",
              "      <td>1</td>\n",
              "      <td>Jan-23</td>\n",
              "      <td>1005</td>\n",
              "      <td>organic_search</td>\n",
              "      <td>web</td>\n",
              "      <td>APAC</td>\n",
              "      <td>Enterprise</td>\n",
              "      <td>471.80</td>\n",
              "      <td>0.10</td>\n",
              "      <td>445.32</td>\n",
              "      <td>0.80</td>\n",
              "      <td>0.08</td>\n",
              "      <td>1</td>\n",
              "      <td>45.27</td>\n",
              "      <td>328.72</td>\n",
              "    </tr>\n",
              "  </tbody>\n",
              "</table>\n",
              "</div>\n",
              "    <div class=\"colab-df-buttons\">\n",
              "\n",
              "  <div class=\"colab-df-container\">\n",
              "    <button class=\"colab-df-convert\" onclick=\"convertToInteractive('df-ff0aab4a-8c19-4515-9c3b-e9c41814f01b')\"\n",
              "            title=\"Convert this dataframe to an interactive table.\"\n",
              "            style=\"display:none;\">\n",
              "\n",
              "  <svg xmlns=\"http://www.w3.org/2000/svg\" height=\"24px\" viewBox=\"0 -960 960 960\">\n",
              "    <path d=\"M120-120v-720h720v720H120Zm60-500h600v-160H180v160Zm220 220h160v-160H400v160Zm0 220h160v-160H400v160ZM180-400h160v-160H180v160Zm440 0h160v-160H620v160ZM180-180h160v-160H180v160Zm440 0h160v-160H620v160Z\"/>\n",
              "  </svg>\n",
              "    </button>\n",
              "\n",
              "  <style>\n",
              "    .colab-df-container {\n",
              "      display:flex;\n",
              "      gap: 12px;\n",
              "    }\n",
              "\n",
              "    .colab-df-convert {\n",
              "      background-color: #E8F0FE;\n",
              "      border: none;\n",
              "      border-radius: 50%;\n",
              "      cursor: pointer;\n",
              "      display: none;\n",
              "      fill: #1967D2;\n",
              "      height: 32px;\n",
              "      padding: 0 0 0 0;\n",
              "      width: 32px;\n",
              "    }\n",
              "\n",
              "    .colab-df-convert:hover {\n",
              "      background-color: #E2EBFA;\n",
              "      box-shadow: 0px 1px 2px rgba(60, 64, 67, 0.3), 0px 1px 3px 1px rgba(60, 64, 67, 0.15);\n",
              "      fill: #174EA6;\n",
              "    }\n",
              "\n",
              "    .colab-df-buttons div {\n",
              "      margin-bottom: 4px;\n",
              "    }\n",
              "\n",
              "    [theme=dark] .colab-df-convert {\n",
              "      background-color: #3B4455;\n",
              "      fill: #D2E3FC;\n",
              "    }\n",
              "\n",
              "    [theme=dark] .colab-df-convert:hover {\n",
              "      background-color: #434B5C;\n",
              "      box-shadow: 0px 1px 3px 1px rgba(0, 0, 0, 0.15);\n",
              "      filter: drop-shadow(0px 1px 2px rgba(0, 0, 0, 0.3));\n",
              "      fill: #FFFFFF;\n",
              "    }\n",
              "  </style>\n",
              "\n",
              "    <script>\n",
              "      const buttonEl =\n",
              "        document.querySelector('#df-ff0aab4a-8c19-4515-9c3b-e9c41814f01b button.colab-df-convert');\n",
              "      buttonEl.style.display =\n",
              "        google.colab.kernel.accessAllowed ? 'block' : 'none';\n",
              "\n",
              "      async function convertToInteractive(key) {\n",
              "        const element = document.querySelector('#df-ff0aab4a-8c19-4515-9c3b-e9c41814f01b');\n",
              "        const dataTable =\n",
              "          await google.colab.kernel.invokeFunction('convertToInteractive',\n",
              "                                                    [key], {});\n",
              "        if (!dataTable) return;\n",
              "\n",
              "        const docLinkHtml = 'Like what you see? Visit the ' +\n",
              "          '<a target=\"_blank\" href=https://colab.research.google.com/notebooks/data_table.ipynb>data table notebook</a>'\n",
              "          + ' to learn more about interactive tables.';\n",
              "        element.innerHTML = '';\n",
              "        dataTable['output_type'] = 'display_data';\n",
              "        await google.colab.output.renderOutput(dataTable, element);\n",
              "        const docLink = document.createElement('div');\n",
              "        docLink.innerHTML = docLinkHtml;\n",
              "        element.appendChild(docLink);\n",
              "      }\n",
              "    </script>\n",
              "  </div>\n",
              "\n",
              "\n",
              "    <div id=\"df-80fe0ade-4f50-422b-ab6e-89dd3a86c6e9\">\n",
              "      <button class=\"colab-df-quickchart\" onclick=\"quickchart('df-80fe0ade-4f50-422b-ab6e-89dd3a86c6e9')\"\n",
              "                title=\"Suggest charts\"\n",
              "                style=\"display:none;\">\n",
              "\n",
              "<svg xmlns=\"http://www.w3.org/2000/svg\" height=\"24px\"viewBox=\"0 0 24 24\"\n",
              "     width=\"24px\">\n",
              "    <g>\n",
              "        <path d=\"M19 3H5c-1.1 0-2 .9-2 2v14c0 1.1.9 2 2 2h14c1.1 0 2-.9 2-2V5c0-1.1-.9-2-2-2zM9 17H7v-7h2v7zm4 0h-2V7h2v10zm4 0h-2v-4h2v4z\"/>\n",
              "    </g>\n",
              "</svg>\n",
              "      </button>\n",
              "\n",
              "<style>\n",
              "  .colab-df-quickchart {\n",
              "      --bg-color: #E8F0FE;\n",
              "      --fill-color: #1967D2;\n",
              "      --hover-bg-color: #E2EBFA;\n",
              "      --hover-fill-color: #174EA6;\n",
              "      --disabled-fill-color: #AAA;\n",
              "      --disabled-bg-color: #DDD;\n",
              "  }\n",
              "\n",
              "  [theme=dark] .colab-df-quickchart {\n",
              "      --bg-color: #3B4455;\n",
              "      --fill-color: #D2E3FC;\n",
              "      --hover-bg-color: #434B5C;\n",
              "      --hover-fill-color: #FFFFFF;\n",
              "      --disabled-bg-color: #3B4455;\n",
              "      --disabled-fill-color: #666;\n",
              "  }\n",
              "\n",
              "  .colab-df-quickchart {\n",
              "    background-color: var(--bg-color);\n",
              "    border: none;\n",
              "    border-radius: 50%;\n",
              "    cursor: pointer;\n",
              "    display: none;\n",
              "    fill: var(--fill-color);\n",
              "    height: 32px;\n",
              "    padding: 0;\n",
              "    width: 32px;\n",
              "  }\n",
              "\n",
              "  .colab-df-quickchart:hover {\n",
              "    background-color: var(--hover-bg-color);\n",
              "    box-shadow: 0 1px 2px rgba(60, 64, 67, 0.3), 0 1px 3px 1px rgba(60, 64, 67, 0.15);\n",
              "    fill: var(--button-hover-fill-color);\n",
              "  }\n",
              "\n",
              "  .colab-df-quickchart-complete:disabled,\n",
              "  .colab-df-quickchart-complete:disabled:hover {\n",
              "    background-color: var(--disabled-bg-color);\n",
              "    fill: var(--disabled-fill-color);\n",
              "    box-shadow: none;\n",
              "  }\n",
              "\n",
              "  .colab-df-spinner {\n",
              "    border: 2px solid var(--fill-color);\n",
              "    border-color: transparent;\n",
              "    border-bottom-color: var(--fill-color);\n",
              "    animation:\n",
              "      spin 1s steps(1) infinite;\n",
              "  }\n",
              "\n",
              "  @keyframes spin {\n",
              "    0% {\n",
              "      border-color: transparent;\n",
              "      border-bottom-color: var(--fill-color);\n",
              "      border-left-color: var(--fill-color);\n",
              "    }\n",
              "    20% {\n",
              "      border-color: transparent;\n",
              "      border-left-color: var(--fill-color);\n",
              "      border-top-color: var(--fill-color);\n",
              "    }\n",
              "    30% {\n",
              "      border-color: transparent;\n",
              "      border-left-color: var(--fill-color);\n",
              "      border-top-color: var(--fill-color);\n",
              "      border-right-color: var(--fill-color);\n",
              "    }\n",
              "    40% {\n",
              "      border-color: transparent;\n",
              "      border-right-color: var(--fill-color);\n",
              "      border-top-color: var(--fill-color);\n",
              "    }\n",
              "    60% {\n",
              "      border-color: transparent;\n",
              "      border-right-color: var(--fill-color);\n",
              "    }\n",
              "    80% {\n",
              "      border-color: transparent;\n",
              "      border-right-color: var(--fill-color);\n",
              "      border-bottom-color: var(--fill-color);\n",
              "    }\n",
              "    90% {\n",
              "      border-color: transparent;\n",
              "      border-bottom-color: var(--fill-color);\n",
              "    }\n",
              "  }\n",
              "</style>\n",
              "\n",
              "      <script>\n",
              "        async function quickchart(key) {\n",
              "          const quickchartButtonEl =\n",
              "            document.querySelector('#' + key + ' button');\n",
              "          quickchartButtonEl.disabled = true;  // To prevent multiple clicks.\n",
              "          quickchartButtonEl.classList.add('colab-df-spinner');\n",
              "          try {\n",
              "            const charts = await google.colab.kernel.invokeFunction(\n",
              "                'suggestCharts', [key], {});\n",
              "          } catch (error) {\n",
              "            console.error('Error during call to suggestCharts:', error);\n",
              "          }\n",
              "          quickchartButtonEl.classList.remove('colab-df-spinner');\n",
              "          quickchartButtonEl.classList.add('colab-df-quickchart-complete');\n",
              "        }\n",
              "        (() => {\n",
              "          let quickchartButtonEl =\n",
              "            document.querySelector('#df-80fe0ade-4f50-422b-ab6e-89dd3a86c6e9 button');\n",
              "          quickchartButtonEl.style.display =\n",
              "            google.colab.kernel.accessAllowed ? 'block' : 'none';\n",
              "        })();\n",
              "      </script>\n",
              "    </div>\n",
              "\n",
              "    </div>\n",
              "  </div>\n"
            ],
            "application/vnd.google.colaboratory.intrinsic+json": {
              "type": "dataframe",
              "variable_name": "data",
              "summary": "{\n  \"name\": \"data\",\n  \"rows\": 7057,\n  \"fields\": [\n    {\n      \"column\": \"year\",\n      \"properties\": {\n        \"dtype\": \"number\",\n        \"std\": 0,\n        \"min\": 2023,\n        \"max\": 2024,\n        \"num_unique_values\": 2,\n        \"samples\": [\n          2024,\n          2023\n        ],\n        \"semantic_type\": \"\",\n        \"description\": \"\"\n      }\n    },\n    {\n      \"column\": \"month\",\n      \"properties\": {\n        \"dtype\": \"number\",\n        \"std\": 3,\n        \"min\": 1,\n        \"max\": 12,\n        \"num_unique_values\": 12,\n        \"samples\": [\n          11,\n          10\n        ],\n        \"semantic_type\": \"\",\n        \"description\": \"\"\n      }\n    },\n    {\n      \"column\": \"date\",\n      \"properties\": {\n        \"dtype\": \"category\",\n        \"num_unique_values\": 24,\n        \"samples\": [\n          \"Sep-23\",\n          \"May-24\"\n        ],\n        \"semantic_type\": \"\",\n        \"description\": \"\"\n      }\n    },\n    {\n      \"column\": \"customer_id\",\n      \"properties\": {\n        \"dtype\": \"number\",\n        \"std\": 2037,\n        \"min\": 1001,\n        \"max\": 8057,\n        \"num_unique_values\": 7057,\n        \"samples\": [\n          4308,\n          6939\n        ],\n        \"semantic_type\": \"\",\n        \"description\": \"\"\n      }\n    },\n    {\n      \"column\": \"acquisition_channel\",\n      \"properties\": {\n        \"dtype\": \"category\",\n        \"num_unique_values\": 4,\n        \"samples\": [\n          \"meta_ads\",\n          \"google_ads\"\n        ],\n        \"semantic_type\": \"\",\n        \"description\": \"\"\n      }\n    },\n    {\n      \"column\": \"signup_source\",\n      \"properties\": {\n        \"dtype\": \"category\",\n        \"num_unique_values\": 3,\n        \"samples\": [\n          \"web\",\n          \"mobile_app\"\n        ],\n        \"semantic_type\": \"\",\n        \"description\": \"\"\n      }\n    },\n    {\n      \"column\": \"region\",\n      \"properties\": {\n        \"dtype\": \"category\",\n        \"num_unique_values\": 6,\n        \"samples\": [\n          \"North America\",\n          \"LatAm\"\n        ],\n        \"semantic_type\": \"\",\n        \"description\": \"\"\n      }\n    },\n    {\n      \"column\": \"customer_tier\",\n      \"properties\": {\n        \"dtype\": \"category\",\n        \"num_unique_values\": 3,\n        \"samples\": [\n          \"Basic\",\n          \"Pro\"\n        ],\n        \"semantic_type\": \"\",\n        \"description\": \"\"\n      }\n    },\n    {\n      \"column\": \"plan_price\",\n      \"properties\": {\n        \"dtype\": \"number\",\n        \"std\": 126.80108957744072,\n        \"min\": 49.03,\n        \"max\": 498.98,\n        \"num_unique_values\": 6226,\n        \"samples\": [\n          103.95,\n          59.08\n        ],\n        \"semantic_type\": \"\",\n        \"description\": \"\"\n      }\n    },\n    {\n      \"column\": \"discount_rate\",\n      \"properties\": {\n        \"dtype\": \"number\",\n        \"std\": 0.08156278012247319,\n        \"min\": 0.0,\n        \"max\": 0.2,\n        \"num_unique_values\": 3,\n        \"samples\": [\n          0.1,\n          0.0\n        ],\n        \"semantic_type\": \"\",\n        \"description\": \"\"\n      }\n    },\n    {\n      \"column\": \"arpu\",\n      \"properties\": {\n        \"dtype\": \"number\",\n        \"std\": 117.1886853383935,\n        \"min\": 34.18,\n        \"max\": 563.02,\n        \"num_unique_values\": 6207,\n        \"samples\": [\n          326.07,\n          78.19\n        ],\n        \"semantic_type\": \"\",\n        \"description\": \"\"\n      }\n    },\n    {\n      \"column\": \"gross_margin\",\n      \"properties\": {\n        \"dtype\": \"number\",\n        \"std\": 0.04375666078045694,\n        \"min\": 0.75,\n        \"max\": 0.9,\n        \"num_unique_values\": 16,\n        \"samples\": [\n          0.76,\n          0.84\n        ],\n        \"semantic_type\": \"\",\n        \"description\": \"\"\n      }\n    },\n    {\n      \"column\": \"churn_rate\",\n      \"properties\": {\n        \"dtype\": \"number\",\n        \"std\": 0.02951330160685637,\n        \"min\": 0.01,\n        \"max\": 0.1,\n        \"num_unique_values\": 702,\n        \"samples\": [\n          0.0121,\n          0.0532\n        ],\n        \"semantic_type\": \"\",\n        \"description\": \"\"\n      }\n    },\n    {\n      \"column\": \"contract_length_months\",\n      \"properties\": {\n        \"dtype\": \"number\",\n        \"std\": 5,\n        \"min\": 1,\n        \"max\": 12,\n        \"num_unique_values\": 2,\n        \"samples\": [\n          1,\n          12\n        ],\n        \"semantic_type\": \"\",\n        \"description\": \"\"\n      }\n    },\n    {\n      \"column\": \"marketing_spend\",\n      \"properties\": {\n        \"dtype\": \"number\",\n        \"std\": 139.32306575669227,\n        \"min\": 42.5,\n        \"max\": 459.99,\n        \"num_unique_values\": 5683,\n        \"samples\": [\n          193.62,\n          195.79\n        ],\n        \"semantic_type\": \"\",\n        \"description\": \"\"\n      }\n    },\n    {\n      \"column\": \"ltv_individual\",\n      \"properties\": {\n        \"dtype\": \"number\",\n        \"std\": 1038.605634975362,\n        \"min\": 25.71682608,\n        \"max\": 5699.34721524,\n        \"num_unique_values\": 7057,\n        \"samples\": [\n          946.4018126400001,\n          122.59399086\n        ],\n        \"semantic_type\": \"\",\n        \"description\": \"\"\n      }\n    }\n  ]\n}"
            }
          },
          "metadata": {},
          "execution_count": 30
        }
      ]
    },
    {
      "cell_type": "markdown",
      "source": [
        "12. A. Luego **agrupa** `ltv_individual` por\n",
        "`acquisition_channel` para obtener el **LTV promedio**.  "
      ],
      "metadata": {
        "id": "eGhf_AInnX7J"
      },
      "id": "eGhf_AInnX7J"
    },
    {
      "cell_type": "code",
      "source": [
        "LTV = data.groupby('acquisition_channel')['ltv_individual'].mean()\n",
        "print(LTV)"
      ],
      "metadata": {
        "id": "bT_0NgYfmxUm",
        "colab": {
          "base_uri": "https://localhost:8080/"
        },
        "outputId": "48b6ff6a-f950-4cbe-a055-bdeb69237c0a"
      },
      "id": "bT_0NgYfmxUm",
      "execution_count": 31,
      "outputs": [
        {
          "output_type": "stream",
          "name": "stdout",
          "text": [
            "acquisition_channel\n",
            "google_ads       710.25\n",
            "meta_ads         729.05\n",
            "organic_search   765.13\n",
            "outbound_sales   751.57\n",
            "Name: ltv_individual, dtype: float64\n"
          ]
        }
      ]
    },
    {
      "cell_type": "markdown",
      "source": [
        "12. B. Luego **agrupa** `ltv_individual`por `customer_tier` para obtener el **LTV promedio**.\n",
        "\n",
        "\n",
        "\n"
      ],
      "metadata": {
        "id": "fTeWGE2-lJMM"
      },
      "id": "fTeWGE2-lJMM"
    },
    {
      "cell_type": "code",
      "source": [
        "LTV = data.groupby('customer_tier')['ltv_individual'].mean()\n",
        "print(LTV)"
      ],
      "metadata": {
        "id": "Gmzebd7JlB5C",
        "colab": {
          "base_uri": "https://localhost:8080/"
        },
        "outputId": "a28abffa-34ec-44fb-9fe4-af968bdf0ef1"
      },
      "id": "Gmzebd7JlB5C",
      "execution_count": 32,
      "outputs": [
        {
          "output_type": "stream",
          "name": "stdout",
          "text": [
            "customer_tier\n",
            "Basic          291.77\n",
            "Enterprise   1,349.02\n",
            "Pro            577.63\n",
            "Name: ltv_individual, dtype: float64\n"
          ]
        }
      ]
    },
    {
      "cell_type": "markdown",
      "source": [
        "13. **Unit economics (Ambas)**: combina tus resultados para comparar **LTV promedio por tier** contra **CAC por canal** y comenta **qué combinaciones canal + tier** lucen más saludables (busca **LTV/CAC > 3**).\n"
      ],
      "metadata": {
        "id": "iC8EKMVhlK3e"
      },
      "id": "iC8EKMVhlK3e"
    },
    {
      "cell_type": "code",
      "source": [
        "LTV = data.groupby(['acquisition_channel'])['ltv_individual'].mean()\n",
        "LTV\n"
      ],
      "metadata": {
        "id": "hysu2126oCoR",
        "colab": {
          "base_uri": "https://localhost:8080/",
          "height": 241
        },
        "outputId": "70a6b167-b9c0-4f71-8da0-615dbb51ce99"
      },
      "id": "hysu2126oCoR",
      "execution_count": 41,
      "outputs": [
        {
          "output_type": "execute_result",
          "data": {
            "text/plain": [
              "acquisition_channel\n",
              "google_ads       710.25\n",
              "meta_ads         729.05\n",
              "organic_search   765.13\n",
              "outbound_sales   751.57\n",
              "Name: ltv_individual, dtype: float64"
            ],
            "text/html": [
              "<div>\n",
              "<style scoped>\n",
              "    .dataframe tbody tr th:only-of-type {\n",
              "        vertical-align: middle;\n",
              "    }\n",
              "\n",
              "    .dataframe tbody tr th {\n",
              "        vertical-align: top;\n",
              "    }\n",
              "\n",
              "    .dataframe thead th {\n",
              "        text-align: right;\n",
              "    }\n",
              "</style>\n",
              "<table border=\"1\" class=\"dataframe\">\n",
              "  <thead>\n",
              "    <tr style=\"text-align: right;\">\n",
              "      <th></th>\n",
              "      <th>ltv_individual</th>\n",
              "    </tr>\n",
              "    <tr>\n",
              "      <th>acquisition_channel</th>\n",
              "      <th></th>\n",
              "    </tr>\n",
              "  </thead>\n",
              "  <tbody>\n",
              "    <tr>\n",
              "      <th>google_ads</th>\n",
              "      <td>710.25</td>\n",
              "    </tr>\n",
              "    <tr>\n",
              "      <th>meta_ads</th>\n",
              "      <td>729.05</td>\n",
              "    </tr>\n",
              "    <tr>\n",
              "      <th>organic_search</th>\n",
              "      <td>765.13</td>\n",
              "    </tr>\n",
              "    <tr>\n",
              "      <th>outbound_sales</th>\n",
              "      <td>751.57</td>\n",
              "    </tr>\n",
              "  </tbody>\n",
              "</table>\n",
              "</div><br><label><b>dtype:</b> float64</label>"
            ]
          },
          "metadata": {},
          "execution_count": 41
        }
      ]
    },
    {
      "cell_type": "code",
      "source": [
        "CAC = data.groupby('acquisition_channel')['marketing_spend'].sum() / data.groupby('acquisition_channel')['customer_id'].count()\n",
        "CAC"
      ],
      "metadata": {
        "colab": {
          "base_uri": "https://localhost:8080/",
          "height": 241
        },
        "id": "3IDA5_I2UIN9",
        "outputId": "9846edba-8e38-4c67-acfb-05b6b96b65d0"
      },
      "id": "3IDA5_I2UIN9",
      "execution_count": 39,
      "outputs": [
        {
          "output_type": "execute_result",
          "data": {
            "text/plain": [
              "acquisition_channel\n",
              "google_ads       401.02\n",
              "meta_ads         349.27\n",
              "organic_search    49.95\n",
              "outbound_sales   200.22\n",
              "dtype: float64"
            ],
            "text/html": [
              "<div>\n",
              "<style scoped>\n",
              "    .dataframe tbody tr th:only-of-type {\n",
              "        vertical-align: middle;\n",
              "    }\n",
              "\n",
              "    .dataframe tbody tr th {\n",
              "        vertical-align: top;\n",
              "    }\n",
              "\n",
              "    .dataframe thead th {\n",
              "        text-align: right;\n",
              "    }\n",
              "</style>\n",
              "<table border=\"1\" class=\"dataframe\">\n",
              "  <thead>\n",
              "    <tr style=\"text-align: right;\">\n",
              "      <th></th>\n",
              "      <th>0</th>\n",
              "    </tr>\n",
              "    <tr>\n",
              "      <th>acquisition_channel</th>\n",
              "      <th></th>\n",
              "    </tr>\n",
              "  </thead>\n",
              "  <tbody>\n",
              "    <tr>\n",
              "      <th>google_ads</th>\n",
              "      <td>401.02</td>\n",
              "    </tr>\n",
              "    <tr>\n",
              "      <th>meta_ads</th>\n",
              "      <td>349.27</td>\n",
              "    </tr>\n",
              "    <tr>\n",
              "      <th>organic_search</th>\n",
              "      <td>49.95</td>\n",
              "    </tr>\n",
              "    <tr>\n",
              "      <th>outbound_sales</th>\n",
              "      <td>200.22</td>\n",
              "    </tr>\n",
              "  </tbody>\n",
              "</table>\n",
              "</div><br><label><b>dtype:</b> float64</label>"
            ]
          },
          "metadata": {},
          "execution_count": 39
        }
      ]
    },
    {
      "cell_type": "code",
      "source": [
        "UNIT_ECONOMICS = LTV / CAC\n",
        "print(UNIT_ECONOMICS)"
      ],
      "metadata": {
        "colab": {
          "base_uri": "https://localhost:8080/"
        },
        "id": "Gb4oJWy6UQOV",
        "outputId": "fee38527-6a75-4979-fe11-f107795906cf"
      },
      "id": "Gb4oJWy6UQOV",
      "execution_count": 42,
      "outputs": [
        {
          "output_type": "stream",
          "name": "stdout",
          "text": [
            "acquisition_channel\n",
            "google_ads        1.77\n",
            "meta_ads          2.09\n",
            "organic_search   15.32\n",
            "outbound_sales    3.75\n",
            "dtype: float64\n"
          ]
        }
      ]
    },
    {
      "cell_type": "code",
      "source": [
        "LTV= data.groupby(['customer_tier'])['ltv_individual'].mean()\n",
        "LTV"
      ],
      "metadata": {
        "colab": {
          "base_uri": "https://localhost:8080/",
          "height": 210
        },
        "id": "y_FtKuFkUs99",
        "outputId": "9bbaf80c-d482-4e0c-d010-d6c48f9454b5"
      },
      "id": "y_FtKuFkUs99",
      "execution_count": 43,
      "outputs": [
        {
          "output_type": "execute_result",
          "data": {
            "text/plain": [
              "customer_tier\n",
              "Basic          291.77\n",
              "Enterprise   1,349.02\n",
              "Pro            577.63\n",
              "Name: ltv_individual, dtype: float64"
            ],
            "text/html": [
              "<div>\n",
              "<style scoped>\n",
              "    .dataframe tbody tr th:only-of-type {\n",
              "        vertical-align: middle;\n",
              "    }\n",
              "\n",
              "    .dataframe tbody tr th {\n",
              "        vertical-align: top;\n",
              "    }\n",
              "\n",
              "    .dataframe thead th {\n",
              "        text-align: right;\n",
              "    }\n",
              "</style>\n",
              "<table border=\"1\" class=\"dataframe\">\n",
              "  <thead>\n",
              "    <tr style=\"text-align: right;\">\n",
              "      <th></th>\n",
              "      <th>ltv_individual</th>\n",
              "    </tr>\n",
              "    <tr>\n",
              "      <th>customer_tier</th>\n",
              "      <th></th>\n",
              "    </tr>\n",
              "  </thead>\n",
              "  <tbody>\n",
              "    <tr>\n",
              "      <th>Basic</th>\n",
              "      <td>291.77</td>\n",
              "    </tr>\n",
              "    <tr>\n",
              "      <th>Enterprise</th>\n",
              "      <td>1,349.02</td>\n",
              "    </tr>\n",
              "    <tr>\n",
              "      <th>Pro</th>\n",
              "      <td>577.63</td>\n",
              "    </tr>\n",
              "  </tbody>\n",
              "</table>\n",
              "</div><br><label><b>dtype:</b> float64</label>"
            ]
          },
          "metadata": {},
          "execution_count": 43
        }
      ]
    },
    {
      "cell_type": "code",
      "source": [
        "CAC= data.groupby('customer_tier')['marketing_spend'].sum() / data.groupby('customer_tier')['customer_id'].count()\n",
        "CAC"
      ],
      "metadata": {
        "colab": {
          "base_uri": "https://localhost:8080/",
          "height": 210
        },
        "id": "iPCS2Mo-U3Nt",
        "outputId": "b8a1e22b-b833-44a8-e06e-4c783e378dcd"
      },
      "id": "iPCS2Mo-U3Nt",
      "execution_count": 44,
      "outputs": [
        {
          "output_type": "execute_result",
          "data": {
            "text/plain": [
              "customer_tier\n",
              "Basic        249.75\n",
              "Enterprise   249.19\n",
              "Pro          248.43\n",
              "dtype: float64"
            ],
            "text/html": [
              "<div>\n",
              "<style scoped>\n",
              "    .dataframe tbody tr th:only-of-type {\n",
              "        vertical-align: middle;\n",
              "    }\n",
              "\n",
              "    .dataframe tbody tr th {\n",
              "        vertical-align: top;\n",
              "    }\n",
              "\n",
              "    .dataframe thead th {\n",
              "        text-align: right;\n",
              "    }\n",
              "</style>\n",
              "<table border=\"1\" class=\"dataframe\">\n",
              "  <thead>\n",
              "    <tr style=\"text-align: right;\">\n",
              "      <th></th>\n",
              "      <th>0</th>\n",
              "    </tr>\n",
              "    <tr>\n",
              "      <th>customer_tier</th>\n",
              "      <th></th>\n",
              "    </tr>\n",
              "  </thead>\n",
              "  <tbody>\n",
              "    <tr>\n",
              "      <th>Basic</th>\n",
              "      <td>249.75</td>\n",
              "    </tr>\n",
              "    <tr>\n",
              "      <th>Enterprise</th>\n",
              "      <td>249.19</td>\n",
              "    </tr>\n",
              "    <tr>\n",
              "      <th>Pro</th>\n",
              "      <td>248.43</td>\n",
              "    </tr>\n",
              "  </tbody>\n",
              "</table>\n",
              "</div><br><label><b>dtype:</b> float64</label>"
            ]
          },
          "metadata": {},
          "execution_count": 44
        }
      ]
    },
    {
      "cell_type": "code",
      "source": [
        "UNIT_ECONOMICS = LTV / CAC\n",
        "print(UNIT_ECONOMICS)"
      ],
      "metadata": {
        "colab": {
          "base_uri": "https://localhost:8080/"
        },
        "id": "_4Gdfwj1U90V",
        "outputId": "94137ce5-80d9-4cd4-d503-93e7b4916b34"
      },
      "id": "_4Gdfwj1U90V",
      "execution_count": 45,
      "outputs": [
        {
          "output_type": "stream",
          "name": "stdout",
          "text": [
            "customer_tier\n",
            "Basic        1.17\n",
            "Enterprise   5.41\n",
            "Pro          2.33\n",
            "dtype: float64\n"
          ]
        }
      ]
    },
    {
      "cell_type": "markdown",
      "metadata": {
        "id": "kh-En2p1hia6"
      },
      "source": [
        "## 🧠 Parte E – Análisis crítico (respuesta abierta)\n",
        "13. **CMO por un día**: con tus resultados, ¿en qué **canal(es)** invertirías más el próximo trimestre? ¿Por qué? (Cita **CAC** y **churn**).  \n",
        "14. ¿Qué **región** ves con mayor riesgo? ¿Qué hipótesis explicarían su **churn**?  \n",
        "15. Identifica **dos combinaciones canal + tier** con mejor **LTV/CAC** y propón **dos acciones** concretas de optimización (p. ej., creatividades, audiencias, pricing, retención).\n",
        "\n",
        "---\n",
        "✍️ **Nota**: Mantente disciplinado con el enunciado (**Filtra**, **Agrupa**, **Ambas**). La evaluación pondera **correctitud técnica** y **calidad de interpretación de negocio**.\n"
      ],
      "id": "kh-En2p1hia6"
    },
    {
      "cell_type": "markdown",
      "source": [
        "13) En la que más invertiría es Outbound_sales y Google_ads, ya que estos presentan los ARPU promedio más altos, además si se hace un contraste con CAC estos canales ofrecen una relación más eficas entre el costo de adquisición y el valor generado por el cliente. Otro factor a tener en cuenta es que el churn en este caso es menor al de los demás canales como meta_ads, lo que esto demuestra es una mayor retención.\n",
        "14) La región con mayor resgo es LatAm, porque muestra que el churn-rate promedio es más elevado en comparación con las demás regiones. Las posibles hipótesis que se podrían explicar, los factores economicos la votalidad del ingreso disponible en clientes, lo cual aumenta la rotación. Por otro lado la competencia local donde existen alternativas más baratas que atraen más fácil a los usuarios.\n",
        "15) La primera combinación: Outbound_sales + Enterprise\n",
        "-LTVC/CAC=5.41, el mejor de todos los tires.\n",
        "- Es decir que loc clientes con contratos más largos y mayor valor de vida.\n",
        "Las dos acciones:\n",
        "- Diseñar programas de fidelización exclusivos\n",
        "- Incentivar contratos anuales con descuentos que sean de manera progresiva para así poder reducir el churn.\n",
        "La segunda combinación: Google_ads + Pro\n",
        "- LTVC/CAC=2.33, es atractivo y estable en canales digitales\n",
        "- Tiene un buen alcance y balance entre costo y retorno\n",
        "Acciones:\n",
        "-Optimizar la segmentación de audiencia en Google_Ads para reducir el CAC\n",
        "- Implementar productos complementarios para poder elevar la ARPU."
      ],
      "metadata": {
        "id": "lckOksvcW-hl"
      },
      "id": "lckOksvcW-hl"
    }
  ],
  "metadata": {
    "kernelspec": {
      "display_name": "Python 3",
      "language": "python",
      "name": "python3"
    },
    "language_info": {
      "name": "python",
      "version": "3.10"
    },
    "colab": {
      "provenance": []
    }
  },
  "nbformat": 4,
  "nbformat_minor": 5
}